{
 "cells": [
  {
   "cell_type": "markdown",
   "metadata": {
    "colab_type": "text",
    "id": "view-in-github"
   },
   "source": [
    "<a href=\"https://colab.research.google.com/github/MUSA-650/musa-650-spring-2025/blob/main/s1_svm.ipynb\" target=\"_parent\"><img src=\"https://colab.research.google.com/assets/colab-badge.svg\" alt=\"Open In Colab\"/></a>"
   ]
  },
  {
   "cell_type": "markdown",
   "metadata": {},
   "source": [
    "### Q1. Classifying the 7 classes in the Covertype dataset from the UCI Machine Learning Repository using an SVM classifier\n",
    "\n",
    "## Steps:\n",
    "\n",
    "1. Data Preparation:\n",
    "\n",
    "- Load the Dataset: Use Pandas to load the covtype.data file (https://archive.ics.uci.edu/ml/machine-learning-databases/covtype/covtype.data.gz)\n",
    "- Separate input features and output labels\n",
    "- Feature Scaling: SVMs are sensitive to feature scaling. Apply StandardScaler to scale the features.\n",
    "- Train-Validation-Test Split: Split the data into training, validation and testing sets.\n"
   ]
  },
  {
   "cell_type": "markdown",
   "metadata": {},
   "source": [
    "2. SVM Classifier Selection and Parameter Tuning:\n",
    "\n",
    "- Kernel Selection: For complex, non-linear datasets like Covertype, the Radial Basis Function (RBF) kernel is often a good choice.\n",
    "- A linear kernel may also be considered, as it may be much faster.\n",
    "- C (Regularization Parameter): Controls the trade-off between maximizing the margin and minimizing the training error.\n",
    "- gamma (Kernel Coefficient): Defines the influence of a single training example.\n",
    "- Use GridSearchCV or RandomizedSearchCV for efficient parameter tuning.\n",
    "- Multi-class Strategy: Scikit-learn's SVC automatically handles multi-class classification using the \"one-vs-one\" strategy.\n"
   ]
  },
  {
   "cell_type": "markdown",
   "metadata": {},
   "source": [
    "3. Application on test data\n",
    "\n",
    "- Perform prediction on the test dataset\n",
    "- Confusion Matrix Calculation\n",
    "- Confusion Matrix Visualization: Use matplotlib.pyplot and seaborn to create a visually appealing heatmap of the confusion matrix."
   ]
  },
  {
   "cell_type": "markdown",
   "metadata": {},
   "source": [
    "4. SVM Classifier between 2 classes to practice basic data manipulation using numpy\n",
    "\n",
    "- Create a plot with the counts of the labels in the training, validation and test sets\n",
    "- Select the two labels with the largest number of samples\n",
    "- Print samples from the selected classes \n",
    "- Train a linear svm using the training data and calculate the accuracy on the testing data"
   ]
  },
  {
   "cell_type": "markdown",
   "metadata": {},
   "source": [
    "5. Train a neural network for classification\n"
   ]
  },
  {
   "cell_type": "code",
   "execution_count": null,
   "metadata": {},
   "outputs": [],
   "source": []
  }
 ],
 "metadata": {
  "colab": {
   "authorship_tag": "ABX9TyMv25rq6yc6EJflOmWjSlUD",
   "include_colab_link": true,
   "provenance": []
  },
  "kernelspec": {
   "display_name": "Python 3 (ipykernel)",
   "language": "python",
   "name": "python3"
  },
  "language_info": {
   "codemirror_mode": {
    "name": "ipython",
    "version": 3
   },
   "file_extension": ".py",
   "mimetype": "text/x-python",
   "name": "python",
   "nbconvert_exporter": "python",
   "pygments_lexer": "ipython3",
   "version": "3.10.14"
  }
 },
 "nbformat": 4,
 "nbformat_minor": 4
}
