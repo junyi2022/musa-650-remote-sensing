{
  "cells": [
    {
      "cell_type": "markdown",
      "metadata": {
        "id": "view-in-github",
        "colab_type": "text"
      },
      "source": [
        "<a href=\"https://colab.research.google.com/github/junyi2022/musa-650-remote-sensing/blob/main/assignments/HW1.ipynb\" target=\"_parent\"><img src=\"https://colab.research.google.com/assets/colab-badge.svg\" alt=\"Open In Colab\"/></a>"
      ]
    },
    {
      "cell_type": "markdown",
      "metadata": {
        "id": "9k7jGJkbR2nf"
      },
      "source": [
        "# MUSA 650 Homework 1: Basics of Machine Learning\n",
        "\n",
        "In this assignment, you’ll explore fundamental machine learning concepts and techniques, with a focus on data preprocessing, image manipulation, and model evaluation. You are responsible for figuring out the code independently and may refer to tutorials, code examples, or use AI support, but **please cite all sources**.\n",
        "\n",
        "Submit a single Jupyter Notebook containing code, narrative text, visualizations, and answers to each question. Open a pull request from your fork of this repository to the main repository for submission.\n",
        "\n",
        "## Important Notes\n",
        "\n",
        "- **Sample Size Considerations**: If experiments take too long with the complete dataset, start with a smaller sample for timely execution. For your final submission, use the full dataset if feasible, but if processing is still too intensive, note your sample sizes clearly. Sample size variations will not affect grading if documented appropriately.\n",
        "- **Data Reshaping**: To switch between 2D and 1D representations, use functions like `numpy.flatten()` or `numpy.resize()` as needed."
      ]
    },
    {
      "cell_type": "markdown",
      "source": [
        "**Disclaimer:** I consulted the following AI tool to revise codes and answer questions for this project.\n",
        "\n",
        "- DeepSeek. (n.d.). DeepSeek artificial intelligence system. Retrieved from https://www.deepseek.com"
      ],
      "metadata": {
        "id": "OuEhvvT3ncPA"
      }
    },
    {
      "cell_type": "markdown",
      "metadata": {
        "id": "63yvSesBR2nj"
      },
      "source": [
        "# 1. Data Exploration\n",
        "\n",
        "Load the mnist dataset using the following code. The mnist dataset is a collection of 28x28 grayscale images of handwritten digits (0-9). Each image is represented as a 2D array (28 rows and 28 columns), and each pixel is a feature. The y data contains labels for the x data."
      ]
    },
    {
      "cell_type": "code",
      "execution_count": 2,
      "metadata": {
        "vscode": {
          "languageId": "plaintext"
        },
        "id": "O5k_iD-mR2nj"
      },
      "outputs": [],
      "source": [
        "import pandas as pandas\n",
        "import numpy as np\n",
        "import matplotlib.pyplot as plt\n",
        "import keras\n",
        "\n",
        "from keras.datasets import mnist\n",
        "\n",
        "(x_train, y_train), (x_test, y_test) = mnist.load_data()"
      ]
    },
    {
      "cell_type": "markdown",
      "source": [
        "## 1.1 Dimensionality"
      ],
      "metadata": {
        "id": "5XbjwlyerU1H"
      }
    },
    {
      "cell_type": "markdown",
      "source": [
        "### 1.1.1 Data Type\n",
        "The type of the training and testing dataset are numpy n-dimensional array."
      ],
      "metadata": {
        "id": "ijrxGQ_PSTy0"
      }
    },
    {
      "cell_type": "code",
      "source": [
        "type(x_train)\n",
        "type(x_test)"
      ],
      "metadata": {
        "colab": {
          "base_uri": "https://localhost:8080/"
        },
        "id": "e2vRN0OISISa",
        "outputId": "cc6c7565-002d-49af-cf0f-81a58cfb9f8d"
      },
      "execution_count": 4,
      "outputs": [
        {
          "output_type": "execute_result",
          "data": {
            "text/plain": [
              "numpy.ndarray"
            ]
          },
          "metadata": {},
          "execution_count": 4
        }
      ]
    },
    {
      "cell_type": "markdown",
      "source": [
        "### 1.1.2 Number of features and samples\n",
        "The shape of `x_train` and `x_test` is (num_samples, height, width). Therefore, there are 60000 samples in the training dataset and 10000 samples in the testing dataset. Each sample is an image of 28 x 28 = 784 features."
      ],
      "metadata": {
        "id": "gCd_L3tXUJpR"
      }
    },
    {
      "cell_type": "code",
      "source": [
        "x_train.shape"
      ],
      "metadata": {
        "colab": {
          "base_uri": "https://localhost:8080/"
        },
        "id": "uZE4anAhT2Yf",
        "outputId": "ef18e4f3-7ca0-4c61-f294-c809db7815ae"
      },
      "execution_count": 17,
      "outputs": [
        {
          "output_type": "execute_result",
          "data": {
            "text/plain": [
              "(60000, 28, 28)"
            ]
          },
          "metadata": {},
          "execution_count": 17
        }
      ]
    },
    {
      "cell_type": "code",
      "source": [
        "x_test.shape"
      ],
      "metadata": {
        "colab": {
          "base_uri": "https://localhost:8080/"
        },
        "id": "FravW7fsT8oG",
        "outputId": "032b1a4e-b100-4bfb-fc22-c80b443c4c0f"
      },
      "execution_count": 18,
      "outputs": [
        {
          "output_type": "execute_result",
          "data": {
            "text/plain": [
              "(10000, 28, 28)"
            ]
          },
          "metadata": {},
          "execution_count": 18
        }
      ]
    },
    {
      "cell_type": "markdown",
      "source": [
        "### 1.1.3 Explore `.shape`\n",
        "If an array has a shape of (100, 28, 28), 100 means the number of images and 28 represent the number of pixels. When flattening the 3D array (100, 28, 28) into a 2D array, I convert each 28x28 image into a 1D array of 784 pixels. The resulting shape will be (100, 784)."
      ],
      "metadata": {
        "id": "rn6-KFy_WR4x"
      }
    },
    {
      "cell_type": "markdown",
      "source": [
        "### 1.1.4 How to convert from 3D array to 2D array\n",
        "`flaten()` and `reshape()` can be used to convert a 3D array into a 2D array without changing the total number of elements. Both methods achieve the same goal but differ in how they handle memory and the resulting array.\n",
        "\n",
        "The `reshape()` function does not create a copy of the data unless necessary, making it memory-efficient."
      ],
      "metadata": {
        "id": "eSZNJjl7Zjk4"
      }
    },
    {
      "cell_type": "code",
      "source": [
        "x_train_2d = x_train.reshape(x_train.shape[0], -1) # -1 automatically calculates the size of the second dimension based on the total number of elements.\n",
        "x_train_2d.shape"
      ],
      "metadata": {
        "colab": {
          "base_uri": "https://localhost:8080/"
        },
        "id": "doIr6fxzbKAT",
        "outputId": "0e8628d6-ad07-4257-b978-8cd58c94ddeb"
      },
      "execution_count": 20,
      "outputs": [
        {
          "output_type": "execute_result",
          "data": {
            "text/plain": [
              "(60000, 784)"
            ]
          },
          "metadata": {},
          "execution_count": 20
        }
      ]
    },
    {
      "cell_type": "markdown",
      "source": [
        "The `flatten()` method always returns a copy of the data as a 1D array and is less memory-efficient."
      ],
      "metadata": {
        "id": "e27IO67acV5f"
      }
    },
    {
      "cell_type": "code",
      "source": [
        "flattened_x_train = x_train.flatten()\n",
        "x_train_2d = flattened_x_train.reshape(x_train.shape[0], -1)"
      ],
      "metadata": {
        "id": "0zrYl7TtbZ-l"
      },
      "execution_count": 25,
      "outputs": []
    },
    {
      "cell_type": "code",
      "source": [
        "print(\"Original 3D array shape:\", x_train.shape)\n",
        "print(\"Flattened 1D array shape:\", flattened_x_train.shape)\n",
        "print(\"Reshaped 2D array shape:\", x_train_2d.shape)"
      ],
      "metadata": {
        "colab": {
          "base_uri": "https://localhost:8080/"
        },
        "id": "11ui9H6rctd3",
        "outputId": "db463a33-125e-4baf-a7b8-4e929967bd59"
      },
      "execution_count": 27,
      "outputs": [
        {
          "output_type": "stream",
          "name": "stdout",
          "text": [
            "Original 3D array shape: (60000, 28, 28)\n",
            "Flattened 1D array shape: (47040000,)\n",
            "Reshaped 2D array shape: (60000, 784)\n"
          ]
        }
      ]
    },
    {
      "cell_type": "markdown",
      "source": [
        "Use `reshape()` when you want to change the shape of an array without copying data.\n",
        "\n",
        "Use `flatten()` when you need a 1D copy of the array, or when you want to ensure the data is contiguous in memory.\n",
        "\n",
        "For converting a 3D array to a 2D array, `reshape()` is generally preferred due to its memory efficiency."
      ],
      "metadata": {
        "id": "lvTz7yufdnq4"
      }
    },
    {
      "cell_type": "markdown",
      "source": [
        "### 1.1.5 Why reshape when transitioning from raw images to model input\n",
        "1. Model Input Requirements:\n",
        "\n",
        "- Most neural networks (e.g., fully connected layers in a Multilayer Perceptron) expect input data in a specific format, typically a 2D array where:\n",
        "\n",
        "  - Each row represents a sample (e.g., an image).\n",
        "\n",
        "  - Each column represents a feature (e.g., a pixel value).\n",
        "\n",
        "- Raw image data is often stored as a 3D array (e.g., (num_samples, height, width) for grayscale images or (num_samples, height, width, channels) for RGB images). Reshaping converts this into the required 2D format.\n",
        "\n",
        "2. Flattening for Fully Connected Layers:\n",
        "\n",
        "- Fully connected (dense) layers in neural networks require input data to be in the form of vectors (1D arrays). Each neuron in the layer connects to every input feature, so the input must be flattened into a 1D array.\n",
        "\n",
        "3. Consistency in Data Representation:\n",
        "\n",
        "- Reshaping ensures that all images have the same input format, which is necessary for batch processing and efficient computation.\n",
        "\n",
        "4. Memory and Computational Efficiency:\n",
        "\n",
        "- Reshaping allows the data to be stored in a contiguous block of memory, which improves computational efficiency and makes it easier to perform vectorized operations."
      ],
      "metadata": {
        "id": "LYf5pG82lI41"
      }
    },
    {
      "cell_type": "markdown",
      "source": [
        "### 1.1.6 Implications of reshaping an image array into a vector (1D array) for each sample\n",
        "\n",
        "1. Loss of Spatial Structure:\n",
        "- When an image is flattened into a 1D array, the spatial relationships between pixels (e.g., neighboring pixels) are lost.\n",
        "\n",
        "- This can be a disadvantage for tasks where spatial information is important (e.g., object detection, image segmentation).\n",
        "\n",
        "2. Increased Dimensionality:\n",
        "- Flattening increases the dimensionality of the input data. For example, a 28x28 grayscale image becomes a vector of length 784. This can lead to:\n",
        "\n",
        "  - High computational cost: More parameters are required in fully connected layers, increasing the complexity of the model.\n",
        "\n",
        "  - Risk of overfitting: With more features, the model may overfit the training data if not regularized properly.\n",
        "\n",
        "3. Compatibility with Fully Connected Layers:\n",
        "- Flattening is necessary to make the data compatible with fully connected layers, where each input feature (pixel) is connected to every neuron in the layer.\n",
        "\n",
        "4. Impact on Model Architecture:\n",
        "- Flattening is typically done before passing data to fully connected layers. However, for convolutional neural networks (CNNs), flattening is usually done after convolutional and pooling layers to preserve spatial information during feature extraction."
      ],
      "metadata": {
        "id": "mCAU50FmpF1n"
      }
    },
    {
      "cell_type": "markdown",
      "metadata": {
        "id": "qANVXdGYR2nl"
      },
      "source": [
        "## 1.2 Visualization\n",
        "\n",
        "Select one random example from each category in the testing set, display each 2D image, and label it with the corresponding category name."
      ]
    },
    {
      "cell_type": "code",
      "source": [
        "categories = np.unique(y_test)\n",
        "categories"
      ],
      "metadata": {
        "id": "dl2ddDXLrw7s",
        "outputId": "63588d4c-502d-4988-a634-c00a4cf9523e",
        "colab": {
          "base_uri": "https://localhost:8080/"
        }
      },
      "execution_count": 32,
      "outputs": [
        {
          "output_type": "execute_result",
          "data": {
            "text/plain": [
              "array([0, 1, 2, 3, 4, 5, 6, 7, 8, 9], dtype=uint8)"
            ]
          },
          "metadata": {},
          "execution_count": 32
        }
      ]
    },
    {
      "cell_type": "code",
      "source": [
        "plt.figure(figsize=(12, 6))\n",
        "\n",
        "# Loop through each category and select one random example\n",
        "for i, category in enumerate(categories):\n",
        "    # Find indices of all samples in the current category\n",
        "    indices = np.where(y_test == category)[0]\n",
        "\n",
        "    # Randomly select one index from the current category\n",
        "    random_index = np.random.choice(indices)\n",
        "\n",
        "    # Extract the image and label\n",
        "    image = x_test[random_index]\n",
        "    label = y_test[random_index]\n",
        "\n",
        "    # Plot the image\n",
        "    plt.subplot(2, 5, i + 1)  # 2 rows, 5 columns\n",
        "    plt.imshow(image, cmap='gray')\n",
        "    plt.title(f\"Label: {label}\")\n",
        "    plt.axis('off')\n",
        "\n",
        "# Display the figure\n",
        "plt.tight_layout()\n",
        "plt.show()\n"
      ],
      "metadata": {
        "id": "m8V56kjlsCuH",
        "outputId": "691757e9-3452-4d9c-ddd1-64090f23504d",
        "colab": {
          "base_uri": "https://localhost:8080/",
          "height": 560
        }
      },
      "execution_count": 33,
      "outputs": [
        {
          "output_type": "display_data",
          "data": {
            "text/plain": [
              "<Figure size 1200x600 with 10 Axes>"
            ],
            "image/png": "[encoded data removed]"
          },
          "metadata": {}
        }
      ]
    },
    {
      "cell_type": "markdown",
      "metadata": {
        "id": "y9jUU3lKR2nl"
      },
      "source": [
        "# 2. Data Processing\n",
        "\n",
        "## 2.1 Subsetting\n",
        "\n",
        "Create a 10% random subset of each training and testing set. What is the distribution of each label in the initial train data? What is the distribution of each label in the reduced train data?\n",
        "\n",
        "Now subset the **first** 10% of each training and testing set. What is the distribution of each label in the initial train data? What is the distribution of each label in the reduced train data?\n",
        "\n",
        "When reducing dataset size, what differences might you expect to see in results between randomly selecting samples versus selecting the first portion of the dataset? Is this borne out by the subsets you just created? How does the distribution of the labels in the various subsampled datasets compare to the distribution of the full datasets?\n",
        "\n",
        "Why might subsampling a dataset be beneficial when developing machine learning models? Discuss the trade-offs."
      ]
    },
    {
      "cell_type": "markdown",
      "metadata": {
        "id": "k-Ov-7pPR2nm"
      },
      "source": [
        "## 2.2 Feature Engineering\n",
        "\n",
        "What are the features versus the output in this assignment? Why is it important to distinguish between features (inputs) and outputs (labels) in a machine learning model?\n",
        "\n",
        "Select all train images labeled \"3\". Create a single, pixel-wise average image of all of these images. Plot the 2D mean and standard deviation images for category 3 in both the training and testing sets. Comment on the differences between the mean and standard deviation images between the training and testing datasets. Plot the 2D mean and standard deviation images for category \"3\" in the training and testing sets for the binarized images.\n",
        "\n",
        "Now repeat this for a new label (e.g., \"7\"). Comment on the differences between the mean and standard deviation images between the training and testing datasets for the binarized images.\n",
        "\n",
        "Binarize both of the images from the previous question by setting pixel values equal to 1 if they are greater than the mean value for that pixel and equal to 0 if they are less than the mean value for that pixel.\n",
        "\n",
        "In plain English, what are we actually **doing** when we binarize an image? How does the new pixel value relate to the pixel value of the original image and the mean value for that pixel across all images with that label?\n",
        "\n",
        "What is the index of the most **dissimilar** image in category \"3\" in the training set for the regular images? What about the most **similar** image? Does this change for the binarized images? If so, why? Make sure to plot all four images with approproate labels.\n",
        "\n",
        "What do you think the effect of binarizing these images is from a machine learning perspective? How does binarization of images (converting pixel values to 0 or 1 based on a threshold) affect the representation of features, and what might be the benefits and limitations of this approach?\n",
        "\n",
        "How does what you've just done relate to the idea of standardizing data? Why might it be important to standardize our data before using it to train a model?\n",
        "\n",
        "Describe how calculating a pixel-wise mean or standard deviation for a set of images can help you understand variations within a category. What does a high standard deviation indicate in this context?"
      ]
    },
    {
      "cell_type": "markdown",
      "metadata": {
        "id": "0h5iMq3vR2nm"
      },
      "source": [
        "# 3. Model Training, Validation, and Intepretation\n",
        "\n",
        "## 3.1 Support Vector Machine\n",
        "\n",
        "From the training dataset, select only images from categories \"3\" and \"9\".Subdivide the data into Set1 and Set2, with 60% of the data in Set1 and 40% in Set2. Replace category labels with 0 for 3 and 1 for 9.\n",
        "Use Set1 to train a linear support vector machine classifier with default parameters and predict the class labels for Set2. What is the prediction accuracy using the model trained on the training set? What is the prediction accuracy using the model trained on the testing set?"
      ]
    },
    {
      "cell_type": "markdown",
      "metadata": {
        "id": "jdNntsTgR2nn"
      },
      "source": [
        "## 3.2 Modeling with Engineered Data\n",
        "\n",
        "We describe each image by using a reduced set of features (compared to n = 784 initial features for each pixel value) as follows:\n",
        "\n",
        "- Binarize the image by setting the pixel values to 1 if they are greater than 128 and 0 otherwise.\n",
        "- For each image row i, find n_i, the sum of 1's in the row (28 features).\n",
        "- For each image column j, find n_j, the sum of 1's in the column (28 features).\n",
        "- Concatenate these features to form a feature vector of 56 features.\n",
        "\n",
        "What is the prediction accuracy using an SVM model trained on the training set? What is the prediction accuracy using an SVM model trained on the testing set? How about the prediction accuracy of a KNN model trained on the training set? And on the testing set? What does this tell you about the potential impacts of feature engineering?"
      ]
    },
    {
      "cell_type": "markdown",
      "metadata": {
        "id": "ZqpJVtujR2nn"
      },
      "source": [
        "## 3.3 K-Nearest Neighbors\n",
        "\n",
        "In the training and testing datasets, select images in the categories 1, 3, 5, 7, and 9. Train a k-NN classifier using 4 to 40 nearest neighbors, with a step size of 4.\n",
        "\n",
        "For k = 4, what is the label that was predicted with lowest accuracy?\n",
        "\n",
        "For k = 20, what is the label that was predicted with lowest accuracy?\n",
        "\n",
        "What is the label pair that was confused most often (i.e., class A is labeled as B, and vice versa)?\n",
        "\n",
        "Visualize 5 mislabeled samples with their actual and predicted labels.\n",
        "\n",
        "Based on the patterns in the pixel values for each category, which labels (numbers) do you think the model might struggle to identify or distinguish from one another? Explain why certain labels might be more challenging to separate, considering the similarity in pixel patterns or shapes."
      ]
    },
    {
      "cell_type": "markdown",
      "metadata": {
        "id": "fCzYPUAYR2no"
      },
      "source": [
        "## 3.4 Comprehension Questions\n",
        "\n",
        "Why is it important to have separate training and testing datasets? What potential issues arise if you use the same data for both training and evaluation?\n",
        "\n",
        "If you achieve a high accuracy on the training set but a lower accuracy on the testing set, what might this indicate about your model’s performance and generalization?"
      ]
    },
    {
      "cell_type": "code",
      "source": [],
      "metadata": {
        "id": "iGBOiOk6rhwu"
      },
      "execution_count": null,
      "outputs": []
    }
  ],
  "metadata": {
    "language_info": {
      "name": "python"
    },
    "colab": {
      "provenance": [],
      "include_colab_link": true
    },
    "kernelspec": {
      "name": "python3",
      "display_name": "Python 3"
    }
  },
  "nbformat": 4,
  "nbformat_minor": 0
}