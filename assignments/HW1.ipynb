{
  "cells": [
    {
      "cell_type": "markdown",
      "metadata": {
        "id": "view-in-github",
        "colab_type": "text"
      },
      "source": [
        "<a href=\"https://colab.research.google.com/github/junyi2022/musa-650-remote-sensing/blob/main/assignments/HW1.ipynb\" target=\"_parent\"><img src=\"https://colab.research.google.com/assets/colab-badge.svg\" alt=\"Open In Colab\"/></a>"
      ]
    },
    {
      "cell_type": "markdown",
      "metadata": {
        "id": "9k7jGJkbR2nf"
      },
      "source": [
        "# MUSA 650 Homework 1: Basics of Machine Learning\n",
        "\n",
        "In this assignment, you’ll explore fundamental machine learning concepts and techniques, with a focus on data preprocessing, image manipulation, and model evaluation."
      ]
    },
    {
      "cell_type": "markdown",
      "source": [
        "**Disclaimer:** I consulted the following AI tool to revise codes and answer questions for this project.\n",
        "\n",
        "- DeepSeek. (n.d.). DeepSeek artificial intelligence system. Retrieved from https://www.deepseek.com"
      ],
      "metadata": {
        "id": "OuEhvvT3ncPA"
      }
    },
    {
      "cell_type": "markdown",
      "metadata": {
        "id": "63yvSesBR2nj"
      },
      "source": [
        "# 1. Data Exploration\n",
        "\n",
        "Load the mnist dataset using the following code. The mnist dataset is a collection of 28x28 grayscale images of handwritten digits (0-9). Each image is represented as a 2D array (28 rows and 28 columns), and each pixel is a feature. The y data contains labels for the x data."
      ]
    },
    {
      "cell_type": "code",
      "execution_count": 1,
      "metadata": {
        "vscode": {
          "languageId": "plaintext"
        },
        "id": "O5k_iD-mR2nj",
        "colab": {
          "base_uri": "https://localhost:8080/"
        },
        "outputId": "522ffc62-7fc9-49e7-d05d-a523784221a3"
      },
      "outputs": [
        {
          "output_type": "stream",
          "name": "stdout",
          "text": [
            "Downloading data from https://storage.googleapis.com/tensorflow/tf-keras-datasets/mnist.npz\n",
            "\u001b[1m11490434/11490434\u001b[0m \u001b[32m━━━━━━━━━━━━━━━━━━━━\u001b[0m\u001b[37m\u001b[0m \u001b[1m1s\u001b[0m 0us/step\n"
          ]
        }
      ],
      "source": [
        "import pandas as pandas\n",
        "import numpy as np\n",
        "import matplotlib.pyplot as plt\n",
        "import keras\n",
        "\n",
        "from keras.datasets import mnist\n",
        "\n",
        "(x_train, y_train), (x_test, y_test) = mnist.load_data()"
      ]
    },
    {
      "cell_type": "markdown",
      "source": [
        "## 1.1 Dimensionality"
      ],
      "metadata": {
        "id": "5XbjwlyerU1H"
      }
    },
    {
      "cell_type": "markdown",
      "source": [
        "### 1.1.1 Data Type\n",
        "The type of the training and testing dataset are numpy n-dimensional array."
      ],
      "metadata": {
        "id": "ijrxGQ_PSTy0"
      }
    },
    {
      "cell_type": "code",
      "source": [
        "type(x_train)\n",
        "type(x_test)"
      ],
      "metadata": {
        "colab": {
          "base_uri": "https://localhost:8080/"
        },
        "id": "e2vRN0OISISa",
        "outputId": "2146e466-b816-4152-abaf-38020fc9526c"
      },
      "execution_count": null,
      "outputs": [
        {
          "output_type": "execute_result",
          "data": {
            "text/plain": [
              "numpy.ndarray"
            ]
          },
          "metadata": {},
          "execution_count": 2
        }
      ]
    },
    {
      "cell_type": "markdown",
      "source": [
        "### 1.1.2 Number of features and samples\n",
        "The shape of `x_train` and `x_test` is (num_samples, height, width). Therefore, there are 60000 samples in the training dataset and 10000 samples in the testing dataset. Each sample is an image of 28 x 28 = 784 features."
      ],
      "metadata": {
        "id": "gCd_L3tXUJpR"
      }
    },
    {
      "cell_type": "code",
      "source": [
        "x_train.shape"
      ],
      "metadata": {
        "colab": {
          "base_uri": "https://localhost:8080/"
        },
        "id": "uZE4anAhT2Yf",
        "outputId": "ef18e4f3-7ca0-4c61-f294-c809db7815ae"
      },
      "execution_count": null,
      "outputs": [
        {
          "output_type": "execute_result",
          "data": {
            "text/plain": [
              "(60000, 28, 28)"
            ]
          },
          "metadata": {},
          "execution_count": 17
        }
      ]
    },
    {
      "cell_type": "code",
      "source": [
        "x_test.shape"
      ],
      "metadata": {
        "colab": {
          "base_uri": "https://localhost:8080/"
        },
        "id": "FravW7fsT8oG",
        "outputId": "032b1a4e-b100-4bfb-fc22-c80b443c4c0f"
      },
      "execution_count": null,
      "outputs": [
        {
          "output_type": "execute_result",
          "data": {
            "text/plain": [
              "(10000, 28, 28)"
            ]
          },
          "metadata": {},
          "execution_count": 18
        }
      ]
    },
    {
      "cell_type": "markdown",
      "source": [
        "### 1.1.3 Explore `.shape`\n",
        "If an array has a shape of (100, 28, 28), 100 means the number of images and 28 represent the number of pixels. When flattening the 3D array (100, 28, 28) into a 2D array, I convert each 28x28 image into a 1D array of 784 pixels. The resulting shape will be (100, 784)."
      ],
      "metadata": {
        "id": "rn6-KFy_WR4x"
      }
    },
    {
      "cell_type": "markdown",
      "source": [
        "### 1.1.4 How to convert from 3D array to 2D array\n",
        "`flaten()` and `reshape()` can be used to convert a 3D array into a 2D array without changing the total number of elements. Both methods achieve the same goal but differ in how they handle memory and the resulting array.\n",
        "\n",
        "The `reshape()` function does not create a copy of the data unless necessary, making it memory-efficient."
      ],
      "metadata": {
        "id": "eSZNJjl7Zjk4"
      }
    },
    {
      "cell_type": "code",
      "source": [
        "x_train_2d = x_train.reshape(x_train.shape[0], -1) # -1 automatically calculates the size of the second dimension based on the total number of elements.\n",
        "x_train_2d.shape"
      ],
      "metadata": {
        "colab": {
          "base_uri": "https://localhost:8080/"
        },
        "id": "doIr6fxzbKAT",
        "outputId": "0e8628d6-ad07-4257-b978-8cd58c94ddeb"
      },
      "execution_count": null,
      "outputs": [
        {
          "output_type": "execute_result",
          "data": {
            "text/plain": [
              "(60000, 784)"
            ]
          },
          "metadata": {},
          "execution_count": 20
        }
      ]
    },
    {
      "cell_type": "markdown",
      "source": [
        "The `flatten()` method always returns a copy of the data as a 1D array and is less memory-efficient."
      ],
      "metadata": {
        "id": "e27IO67acV5f"
      }
    },
    {
      "cell_type": "code",
      "source": [
        "flattened_x_train = x_train.flatten()\n",
        "x_train_2d = flattened_x_train.reshape(x_train.shape[0], -1)"
      ],
      "metadata": {
        "id": "0zrYl7TtbZ-l"
      },
      "execution_count": null,
      "outputs": []
    },
    {
      "cell_type": "code",
      "source": [
        "print(\"Original 3D array shape:\", x_train.shape)\n",
        "print(\"Flattened 1D array shape:\", flattened_x_train.shape)\n",
        "print(\"Reshaped 2D array shape:\", x_train_2d.shape)"
      ],
      "metadata": {
        "colab": {
          "base_uri": "https://localhost:8080/"
        },
        "id": "11ui9H6rctd3",
        "outputId": "db463a33-125e-4baf-a7b8-4e929967bd59"
      },
      "execution_count": null,
      "outputs": [
        {
          "output_type": "stream",
          "name": "stdout",
          "text": [
            "Original 3D array shape: (60000, 28, 28)\n",
            "Flattened 1D array shape: (47040000,)\n",
            "Reshaped 2D array shape: (60000, 784)\n"
          ]
        }
      ]
    },
    {
      "cell_type": "markdown",
      "source": [
        "Use `reshape()` when you want to change the shape of an array without copying data.\n",
        "\n",
        "Use `flatten()` when you need a 1D copy of the array, or when you want to ensure the data is contiguous in memory.\n",
        "\n",
        "For converting a 3D array to a 2D array, `reshape()` is generally preferred due to its memory efficiency."
      ],
      "metadata": {
        "id": "lvTz7yufdnq4"
      }
    },
    {
      "cell_type": "markdown",
      "source": [
        "### 1.1.5 Why reshape when transitioning from raw images to model input\n",
        "1. Model Input Requirements:\n",
        "\n",
        "- Most neural networks (e.g., fully connected layers in a Multilayer Perceptron) expect input data in a specific format, typically a 2D array where:\n",
        "\n",
        "  - Each row represents a sample (e.g., an image).\n",
        "\n",
        "  - Each column represents a feature (e.g., a pixel value).\n",
        "\n",
        "- Raw image data is often stored as a 3D array (e.g., (num_samples, height, width) for grayscale images or (num_samples, height, width, channels) for RGB images). Reshaping converts this into the required 2D format.\n",
        "\n",
        "2. Flattening for Fully Connected Layers:\n",
        "\n",
        "- Fully connected (dense) layers in neural networks require input data to be in the form of vectors (1D arrays). Each neuron in the layer connects to every input feature, so the input must be flattened into a 1D array.\n",
        "\n",
        "3. Consistency in Data Representation:\n",
        "\n",
        "- Reshaping ensures that all images have the same input format, which is necessary for batch processing and efficient computation.\n",
        "\n",
        "4. Memory and Computational Efficiency:\n",
        "\n",
        "- Reshaping allows the data to be stored in a contiguous block of memory, which improves computational efficiency and makes it easier to perform vectorized operations."
      ],
      "metadata": {
        "id": "LYf5pG82lI41"
      }
    },
    {
      "cell_type": "markdown",
      "source": [
        "### 1.1.6 Implications of reshaping an image array into a vector (1D array) for each sample\n",
        "\n",
        "1. Loss of Spatial Structure:\n",
        "- When an image is flattened into a 1D array, the spatial relationships between pixels (e.g., neighboring pixels) are lost.\n",
        "\n",
        "- This can be a disadvantage for tasks where spatial information is important (e.g., object detection, image segmentation).\n",
        "\n",
        "2. Increased Dimensionality:\n",
        "- Flattening increases the dimensionality of the input data. For example, a 28x28 grayscale image becomes a vector of length 784. This can lead to:\n",
        "\n",
        "  - High computational cost: More parameters are required in fully connected layers, increasing the complexity of the model.\n",
        "\n",
        "  - Risk of overfitting: With more features, the model may overfit the training data if not regularized properly.\n",
        "\n",
        "3. Compatibility with Fully Connected Layers:\n",
        "- Flattening is necessary to make the data compatible with fully connected layers, where each input feature (pixel) is connected to every neuron in the layer.\n",
        "\n",
        "4. Impact on Model Architecture:\n",
        "- Flattening is typically done before passing data to fully connected layers. However, for convolutional neural networks (CNNs), flattening is usually done after convolutional and pooling layers to preserve spatial information during feature extraction."
      ],
      "metadata": {
        "id": "mCAU50FmpF1n"
      }
    },
    {
      "cell_type": "markdown",
      "metadata": {
        "id": "qANVXdGYR2nl"
      },
      "source": [
        "## 1.2 Visualization\n",
        "\n",
        "Select one random example from each category in the testing set, display each 2D image, and label it with the corresponding category name."
      ]
    },
    {
      "cell_type": "code",
      "source": [
        "categories = np.unique(y_test)\n",
        "categories"
      ],
      "metadata": {
        "id": "dl2ddDXLrw7s",
        "outputId": "6daa91ed-5f24-4c98-f77f-177c82bf8bdf",
        "colab": {
          "base_uri": "https://localhost:8080/"
        }
      },
      "execution_count": null,
      "outputs": [
        {
          "output_type": "execute_result",
          "data": {
            "text/plain": [
              "array([0, 1, 2, 3, 4, 5, 6, 7, 8, 9], dtype=uint8)"
            ]
          },
          "metadata": {},
          "execution_count": 3
        }
      ]
    },
    {
      "cell_type": "code",
      "source": [
        "plt.figure(figsize=(12, 6))\n",
        "\n",
        "# Loop through each category and select one random example\n",
        "for i, category in enumerate(categories):\n",
        "    # Find indices of all samples in the current category\n",
        "    indices = np.where(y_test == category)[0]\n",
        "\n",
        "    # Randomly select one index from the current category\n",
        "    random_index = np.random.choice(indices)\n",
        "\n",
        "    # Extract the image and label\n",
        "    image = x_test[random_index]\n",
        "    label = y_test[random_index]\n",
        "\n",
        "    # Plot the image\n",
        "    plt.subplot(2, 5, i + 1)  # 2 rows, 5 columns\n",
        "    plt.imshow(image, cmap='gray')\n",
        "    plt.title(f\"Label: {label}\")\n",
        "    plt.axis('off')\n",
        "\n",
        "# Display the figure\n",
        "plt.tight_layout()\n",
        "plt.show()\n"
      ],
      "metadata": {
        "id": "m8V56kjlsCuH",
        "outputId": "3c0e8382-ba15-4e9b-8136-e3a9c1262d22",
        "colab": {
          "base_uri": "https://localhost:8080/",
          "height": 560
        }
      },
      "execution_count": null,
      "outputs": [
        {
          "output_type": "display_data",
          "data": {
            "text/plain": [
              "<Figure size 1200x600 with 10 Axes>"
            ],
            "image/png": "[encoded data removed]"
          },
          "metadata": {}
        }
      ]
    },
    {
      "cell_type": "markdown",
      "metadata": {
        "id": "y9jUU3lKR2nl"
      },
      "source": [
        "# 2. Data Processing"
      ]
    },
    {
      "cell_type": "markdown",
      "source": [
        "## 2.1 Subsetting"
      ],
      "metadata": {
        "id": "GelxBxCrgIhV"
      }
    },
    {
      "cell_type": "markdown",
      "source": [
        "### 2.1.1 10% random subset of each training and testing set\n",
        "Create a 10% random subset of each training and testing set. The distribution of each label in the initial train data and the reduced train data are shown in the plots and texts. In both cases, the distribution of the reduced train data is very similar to the distribution of the initial train data."
      ],
      "metadata": {
        "id": "PSbqbQxzQVzc"
      }
    },
    {
      "cell_type": "code",
      "source": [
        "# create a random subset of the data\n",
        "def create_random_subset(x, y, subset_fraction):\n",
        "    num_samples = len(x)\n",
        "    subset_size = int(num_samples * subset_fraction)\n",
        "    random_indices = np.random.choice(num_samples, subset_size, replace=False)\n",
        "    return x[random_indices], y[random_indices]\n",
        "\n",
        "x_train_subset, y_train_subset = create_random_subset(x_train, y_train, 0.1)\n",
        "x_test_subset, y_test_subset = create_random_subset(x_test, y_test, 0.1)\n",
        "\n",
        "# calculate the distribution of each label\n",
        "def calculate_label_distribution(y):\n",
        "    unique_labels, counts = np.unique(y, return_counts=True)\n",
        "    return dict(zip(unique_labels, counts))\n",
        "\n",
        "initial_train_distribution = calculate_label_distribution(y_train)\n",
        "reduced_train_distribution = calculate_label_distribution(y_train_subset)\n",
        "\n",
        "# plot distribution\n",
        "plt.figure(figsize=(12, 3))\n",
        "\n",
        "# Initial training set distribution\n",
        "plt.subplot(1, 2, 1)\n",
        "plt.bar(initial_train_distribution.keys(), initial_train_distribution.values(), color='#accab2', alpha=1)\n",
        "plt.title(\"Initial Training Set Label Distribution\")\n",
        "plt.xlabel(\"Label (Digit)\")\n",
        "plt.ylabel(\"Count\")\n",
        "plt.xticks(range(10))  # Ensure x-axis labels are 0-9\n",
        "plt.grid(axis='y', linestyle='--', alpha=0.7)\n",
        "\n",
        "# Reduced training set distribution\n",
        "plt.subplot(1, 2, 2)\n",
        "plt.bar(reduced_train_distribution.keys(), reduced_train_distribution.values(), color='#e9a752', alpha=1)\n",
        "plt.title(\"Reduced Training Set Label Distribution (10% Subset)\")\n",
        "plt.xlabel(\"Label (Digit)\")\n",
        "plt.ylabel(\"Count\")\n",
        "plt.xticks(range(10))  # Ensure x-axis labels are 0-9\n",
        "plt.grid(axis='y', linestyle='--', alpha=0.7)\n",
        "\n",
        "# Display the plots\n",
        "plt.tight_layout()\n",
        "plt.show()"
      ],
      "metadata": {
        "colab": {
          "base_uri": "https://localhost:8080/",
          "height": 307
        },
        "id": "v7Bo_jPmQTwF",
        "outputId": "25680e12-1492-4138-ea9b-18977f44aad7"
      },
      "execution_count": null,
      "outputs": [
        {
          "output_type": "display_data",
          "data": {
            "text/plain": [
              "<Figure size 1200x300 with 2 Axes>"
            ],
            "image/png": "[encoded data removed]"
          },
          "metadata": {}
        }
      ]
    },
    {
      "cell_type": "code",
      "source": [
        "# Print the distributions\n",
        "print(\"Initial Training Set Label Distribution:\")\n",
        "for label, count in initial_train_distribution.items():\n",
        "    print(f\"Label {label}: {count} samples\")\n",
        "\n",
        "print(\"\\nReduced Training Set Label Distribution:\")\n",
        "for label, count in reduced_train_distribution.items():\n",
        "    print(f\"Label {label}: {count} samples\")"
      ],
      "metadata": {
        "colab": {
          "base_uri": "https://localhost:8080/"
        },
        "id": "SaaTvqUdTXDe",
        "outputId": "212f6474-a3f0-44b6-cfe4-07ed6a7c4704"
      },
      "execution_count": null,
      "outputs": [
        {
          "output_type": "stream",
          "name": "stdout",
          "text": [
            "Initial Training Set Label Distribution:\n",
            "Label 0: 5923 samples\n",
            "Label 1: 6742 samples\n",
            "Label 2: 5958 samples\n",
            "Label 3: 6131 samples\n",
            "Label 4: 5842 samples\n",
            "Label 5: 5421 samples\n",
            "Label 6: 5918 samples\n",
            "Label 7: 6265 samples\n",
            "Label 8: 5851 samples\n",
            "Label 9: 5949 samples\n",
            "\n",
            "Reduced Training Set Label Distribution:\n",
            "Label 0: 545 samples\n",
            "Label 1: 683 samples\n",
            "Label 2: 607 samples\n",
            "Label 3: 613 samples\n",
            "Label 4: 585 samples\n",
            "Label 5: 532 samples\n",
            "Label 6: 592 samples\n",
            "Label 7: 645 samples\n",
            "Label 8: 587 samples\n",
            "Label 9: 611 samples\n"
          ]
        }
      ]
    },
    {
      "cell_type": "markdown",
      "source": [
        "### 2.1.2 Subset the **first** 10% of each training and testing set\n",
        "The distribution of each label in the initial train data and the reduced train data are shown in the plots and texts. When extracting the first 10% of the dataset, the distribution of the reduced train data has more variation to the distribution of the initial train data than the above random selection."
      ],
      "metadata": {
        "id": "ci4e8546UDsx"
      }
    },
    {
      "cell_type": "code",
      "source": [
        "# subset the first 10% of the data\n",
        "def subset_first_10_percent(x, y):\n",
        "    subset_size = int(len(x) * 0.1)\n",
        "    return x[:subset_size], y[:subset_size]\n",
        "\n",
        "x_train_subset, y_train_subset = subset_first_10_percent(x_train, y_train)\n",
        "x_test_subset, y_test_subset = subset_first_10_percent(x_test, y_test)\n",
        "\n",
        "# calculate the distribution of each label\n",
        "initial_train_distribution = calculate_label_distribution(y_train)\n",
        "reduced_train_distribution = calculate_label_distribution(y_train_subset)\n",
        "\n",
        "# Plot\n",
        "plt.figure(figsize=(12, 3))\n",
        "\n",
        "# Initial training set distribution\n",
        "plt.subplot(1, 2, 1)\n",
        "plt.bar(initial_train_distribution.keys(), initial_train_distribution.values(), color='#accab2', alpha=1)\n",
        "plt.title(\"Initial Training Set Label Distribution\")\n",
        "plt.xlabel(\"Label (Digit)\")\n",
        "plt.ylabel(\"Count\")\n",
        "plt.xticks(range(10))  # Ensure x-axis labels are 0-9\n",
        "plt.grid(axis='y', linestyle='--', alpha=0.7)\n",
        "\n",
        "# Reduced training set distribution\n",
        "plt.subplot(1, 2, 2)\n",
        "plt.bar(reduced_train_distribution.keys(), reduced_train_distribution.values(), color='#e9a752', alpha=1)\n",
        "plt.title(\"Reduced Training Set Label Distribution (First 10%)\")\n",
        "plt.xlabel(\"Label (Digit)\")\n",
        "plt.ylabel(\"Count\")\n",
        "plt.xticks(range(10))  # Ensure x-axis labels are 0-9\n",
        "plt.grid(axis='y', linestyle='--', alpha=0.7)\n",
        "\n",
        "# Display the plots\n",
        "plt.tight_layout()\n",
        "plt.show()"
      ],
      "metadata": {
        "colab": {
          "base_uri": "https://localhost:8080/",
          "height": 307
        },
        "id": "hOgEhP5DURIk",
        "outputId": "875f96dc-89c2-4d90-e52e-aee46c26f029"
      },
      "execution_count": null,
      "outputs": [
        {
          "output_type": "display_data",
          "data": {
            "text/plain": [
              "<Figure size 1200x300 with 2 Axes>"
            ],
            "image/png": "[encoded data removed]"
          },
          "metadata": {}
        }
      ]
    },
    {
      "cell_type": "code",
      "source": [
        "# Print the distributions\n",
        "print(\"Initial Training Set Label Distribution:\")\n",
        "for label, count in initial_train_distribution.items():\n",
        "    print(f\"Label {label}: {count} samples\")\n",
        "\n",
        "print(\"\\nReduced Training Set Label Distribution (First 10%):\")\n",
        "for label, count in reduced_train_distribution.items():\n",
        "    print(f\"Label {label}: {count} samples\")"
      ],
      "metadata": {
        "colab": {
          "base_uri": "https://localhost:8080/"
        },
        "id": "0xz8oxQJUkKf",
        "outputId": "c05d750d-e55e-4f25-facb-c14b86504a11"
      },
      "execution_count": null,
      "outputs": [
        {
          "output_type": "stream",
          "name": "stdout",
          "text": [
            "Initial Training Set Label Distribution:\n",
            "Label 0: 5923 samples\n",
            "Label 1: 6742 samples\n",
            "Label 2: 5958 samples\n",
            "Label 3: 6131 samples\n",
            "Label 4: 5842 samples\n",
            "Label 5: 5421 samples\n",
            "Label 6: 5918 samples\n",
            "Label 7: 6265 samples\n",
            "Label 8: 5851 samples\n",
            "Label 9: 5949 samples\n",
            "\n",
            "Reduced Training Set Label Distribution (First 10%):\n",
            "Label 0: 592 samples\n",
            "Label 1: 671 samples\n",
            "Label 2: 581 samples\n",
            "Label 3: 608 samples\n",
            "Label 4: 623 samples\n",
            "Label 5: 514 samples\n",
            "Label 6: 608 samples\n",
            "Label 7: 651 samples\n",
            "Label 8: 551 samples\n",
            "Label 9: 601 samples\n"
          ]
        }
      ]
    },
    {
      "cell_type": "markdown",
      "source": [
        "### 2.1.3 Comparision between random selection and select the first portion\n",
        "From the above results, we can see that the distribution of labels in the random selection is more similar to the label distribution in the full dataset than the selection of the first portion. In this way, random selection is more represented of the full dataset and minimizes potential bias. Selecting the first portion is acceptable if the dataset is well-shuffled, but it can introduce bias if the dataset is ordered."
      ],
      "metadata": {
        "id": "VJQYclJvef2s"
      }
    },
    {
      "cell_type": "markdown",
      "source": [
        "### 2.1.4 Why might subsampling a dataset be beneficial when developing machine learning models\n",
        "\n",
        "**Benefits of Subsampling**\n",
        "1. Reduced Computational Cost:\n",
        "\n",
        "- Training Time\n",
        "\n",
        "- Memory Usage\n",
        "\n",
        "2. Faster Iteration and Experimentation:\n",
        "\n",
        "- Subsampling allows for quicker prototyping and experimentation with different models, hyperparameters, and preprocessing techniques.\n",
        "\n",
        "3. Debugging and Development:\n",
        "\n",
        "- A smaller dataset is easier to inspect, visualize, and debug.\n",
        "\n",
        "4. Class Imbalance Mitigation:\n",
        "\n",
        "- If the original dataset is imbalanced, subsampling can be used to create a more balanced subset, which can improve model performance for underrepresented classes.\n",
        "\n",
        "5. Avoiding Overfitting:\n",
        "\n",
        "- For very large datasets, subsampling can help avoid overfitting by reducing the amount of data the model is exposed to.\n",
        "\n",
        "6. Distributed and Parallel Processing:\n",
        "\n",
        "- Subsampling can make it easier to distribute data across multiple nodes or processes for parallel training.\n",
        "\n",
        "**Trade-offs of Subsampling**\n",
        "1. Loss of Information:\n",
        "\n",
        "- Subsampling reduces the amount of data available for training, which can lead to a loss of important patterns or relationships in the data.\n",
        "\n",
        "2. Reduced Model Performance:\n",
        "\n",
        "- Models trained on smaller datasets may have lower accuracy or generalization performance because they have less data to learn from.\n",
        "\n",
        "3. Bias in Subsampling:\n",
        "\n",
        "- If the subsampling method introduces bias, the model may perform poorly on unseen data.\n",
        "\n",
        "4. Difficulty with Rare Classes or Events:\n",
        "\n",
        "- If the dataset contains rare classes or events, subsampling may further reduce their representation."
      ],
      "metadata": {
        "id": "Hp-oAvjMf8hT"
      }
    },
    {
      "cell_type": "markdown",
      "metadata": {
        "id": "k-Ov-7pPR2nm"
      },
      "source": [
        "## 2.2 Feature Engineering"
      ]
    },
    {
      "cell_type": "markdown",
      "source": [
        "### 2.2.1 Features vs output\n",
        "**Feature:** the pixels of each image. Each image has 784 features.\n",
        "\n",
        "**Output:** labels, the target values that the model is trying to predict. The outputs are the digits (0-9) corresponding to each image.\n",
        "\n",
        "Distinguishing between features (inputs) and outputs (labels) is crucial because machine learning models learn the relationship between the features and the outputs during training. The features are used as input to the model, and the outputs are used as the target values that the model tries to predict."
      ],
      "metadata": {
        "id": "UThwyDM8iFyy"
      }
    },
    {
      "cell_type": "markdown",
      "source": [
        "### 2.2.2 Explore label 3\n",
        "Select all train and test images labeled \"3\". Plot the 2D mean and standard deviation images for category 3 in both the training and testing sets. The mean plot looks more like real handwriting while the standard deviation looks like contouring around a handwritten number. The results of the training and testing dataset look very similar.\n",
        "\n",
        "Plot the 2D mean and standard deviation images for category \"3\" in the training and testing sets for the binarized images.\n",
        "\n",
        "**Non-Binarized Images:**\n",
        "- Mean Images:\n",
        "\n",
        "  - The mean image will show the average pixel values across all images labeled \"3\".\n",
        "\n",
        "  - The image will look like a blurred version of the digit \"3\".\n",
        "\n",
        "- Standard Deviation Images:\n",
        "\n",
        "  - The standard deviation image will show areas where the digit \"3\" varies the most (e.g., strokes, curves)."
      ],
      "metadata": {
        "id": "2PXBXkujKaiv"
      }
    },
    {
      "cell_type": "code",
      "source": [
        "# Select images labeled \"3\" from the training and testing sets\n",
        "train_images_3 = x_train[y_train == 3]\n",
        "test_images_3 = x_test[y_test == 3]\n",
        "\n",
        "# Compute mean and standard deviation images for category \"3\"\n",
        "def compute_mean_std_images(images):\n",
        "    mean_image = np.mean(images, axis=0)\n",
        "    std_image = np.std(images, axis=0)\n",
        "    return mean_image, std_image\n",
        "\n",
        "# Compute mean and standard deviation images for category \"3\"\n",
        "train_mean_3, train_std_3 = compute_mean_std_images(train_images_3)\n",
        "test_mean_3, test_std_3 = compute_mean_std_images(test_images_3)\n",
        "\n",
        "# Binarize the images\n",
        "def binarize_images(images, threshold):\n",
        "    return (images >= threshold).astype(int)\n",
        "\n",
        "train_images_3_bin = binarize_images(train_images_3, 128)\n",
        "test_images_3_bin = binarize_images(test_images_3, 128)\n",
        "\n",
        "# Compute mean and standard deviation images for binarized data\n",
        "train_mean_3_bin, train_std_3_bin = compute_mean_std_images(train_images_3_bin)\n",
        "test_mean_3_bin, test_std_3_bin = compute_mean_std_images(test_images_3_bin)"
      ],
      "metadata": {
        "id": "cR9FlYq2KiD-"
      },
      "execution_count": null,
      "outputs": []
    },
    {
      "cell_type": "code",
      "source": [
        "def plot_images(images, titles, cmap='gray', figsize=(12, 6)):\n",
        "    plt.figure(figsize=figsize)\n",
        "    for i, (image, title) in enumerate(zip(images, titles)):\n",
        "        plt.subplot(1, len(images), i + 1)\n",
        "        plt.imshow(image, cmap=cmap)\n",
        "        plt.title(title)\n",
        "        plt.axis('off')\n",
        "    plt.tight_layout()\n",
        "    plt.show()\n",
        "\n",
        "# Plot mean and standard deviation images for original data\n",
        "plot_images([train_mean_3, train_std_3, test_mean_3, test_std_3],\n",
        "            titles=[\"Train Mean (3)\", \"Train Std (3)\", \"Test Mean (3)\", \"Test Std (3)\"])\n",
        "\n",
        "# Plot mean and standard deviation images for binarized data\n",
        "plot_images([train_mean_3_bin, train_std_3_bin, test_mean_3_bin, test_std_3_bin],\n",
        "            titles=[\"Train Mean (3) - Binarized\", \"Train Std (3) - Binarized\",\n",
        "                   \"Test Mean (3) - Binarized\", \"Test Std (3) - Binarized\"])"
      ],
      "metadata": {
        "collapsed": true,
        "colab": {
          "base_uri": "https://localhost:8080/",
          "height": 663
        },
        "id": "J9NPeKKAMWJo",
        "outputId": "dcfb7dda-3d34-498e-b157-c4ff0d6fd4f0"
      },
      "execution_count": null,
      "outputs": [
        {
          "output_type": "display_data",
          "data": {
            "text/plain": [
              "<Figure size 1200x600 with 4 Axes>"
            ],
            "image/png": "[encoded data removed]"
          },
          "metadata": {}
        },
        {
          "output_type": "display_data",
          "data": {
            "text/plain": [
              "<Figure size 1200x600 with 4 Axes>"
            ],
            "image/png": "[encoded data removed]"
          },
          "metadata": {}
        }
      ]
    },
    {
      "cell_type": "markdown",
      "source": [
        "### 2.2.3 Explore label 7\n",
        "Now repeat this for a new label (e.g., \"7\"). The results of the binarized images and non-binarized images are very similar. The difference is about the range of values. The non-binarized images is on a scale of 0 to 255 but the binarized images is from 0 to 1.\n",
        "\n",
        "**Binarized Images:**\n",
        "- Mean Images:\n",
        "\n",
        "  - The mean image will show the probability of a pixel being 1 (active) across all images labeled \"3\".\n",
        "\n",
        "  - The image will look like a sharper version of the digit \"3\", with pixel values ranging between 0 and 1.\n",
        "\n",
        "- Standard Deviation Images:\n",
        "\n",
        "  - The standard deviation image will show the variability of pixel activation (0 or 1) across all images labeled \"3\".\n",
        "\n",
        "  - Areas with high standard deviation indicate where the digit \"3\" varies the most in terms of pixel activation."
      ],
      "metadata": {
        "id": "gO0mDeDRdCAT"
      }
    },
    {
      "cell_type": "code",
      "source": [
        "# Select images labeled \"7\" from the training and testing sets\n",
        "train_images_7 = x_train[y_train == 7]\n",
        "test_images_7 = x_test[y_test == 7]\n",
        "\n",
        "# Compute mean and standard deviation images for category \"7\"\n",
        "train_mean_7, train_std_7 = compute_mean_std_images(train_images_7)\n",
        "test_mean_7, test_std_7 = compute_mean_std_images(test_images_7)\n",
        "\n",
        "# Binarize the images\n",
        "train_images_7_bin = binarize_images(train_images_7, 128)\n",
        "test_images_7_bin = binarize_images(test_images_7, 128)\n",
        "\n",
        "# Compute mean and standard deviation images for binarized data\n",
        "train_mean_7_bin, train_std_7_bin = compute_mean_std_images(train_images_7_bin)\n",
        "test_mean_7_bin, test_std_7_bin = compute_mean_std_images(test_images_7_bin)\n",
        "\n",
        "# Plot mean and standard deviation images for original data\n",
        "plot_images([train_mean_7, train_std_7, test_mean_7, test_std_7],\n",
        "            titles=[\"Train Mean (7)\", \"Train Std (7)\", \"Test Mean (7)\", \"Test Std (7)\"])\n",
        "\n",
        "# Plot mean and standard deviation images for binarized data\n",
        "plot_images([train_mean_7_bin, train_std_7_bin, test_mean_7_bin, test_std_7_bin],\n",
        "            titles=[\"Train Mean (7) - Binarized\", \"Train Std (7) - Binarized\",\n",
        "                   \"Test Mean (7) - Binarized\", \"Test Std (7) - Binarized\"])"
      ],
      "metadata": {
        "colab": {
          "base_uri": "https://localhost:8080/",
          "height": 663
        },
        "id": "gADgoHzXdLNS",
        "outputId": "53784155-0662-4beb-f683-2f7cb07eb245"
      },
      "execution_count": null,
      "outputs": [
        {
          "output_type": "display_data",
          "data": {
            "text/plain": [
              "<Figure size 1200x600 with 4 Axes>"
            ],
            "image/png": "[encoded data removed]"
          },
          "metadata": {}
        },
        {
          "output_type": "display_data",
          "data": {
            "text/plain": [
              "<Figure size 1200x600 with 4 Axes>"
            ],
            "image/png": "[encoded data removed]"
          },
          "metadata": {}
        }
      ]
    },
    {
      "cell_type": "markdown",
      "source": [
        "### 2.2.4 Binarize by mean value\n",
        "Binarize both of the images from the previous question by setting pixel values equal to 1 if they are greater than the mean value for that pixel and equal to 0 if they are less than the mean value for that pixel."
      ],
      "metadata": {
        "id": "t-16n8QHe226"
      }
    },
    {
      "cell_type": "code",
      "source": [
        "train_images_3_bin.shape"
      ],
      "metadata": {
        "id": "w_-IRmLtXnBn",
        "outputId": "443fa531-e1df-47b3-e4c6-47ce797c40bd",
        "colab": {
          "base_uri": "https://localhost:8080/"
        }
      },
      "execution_count": null,
      "outputs": [
        {
          "output_type": "execute_result",
          "data": {
            "text/plain": [
              "(6131, 28, 28)"
            ]
          },
          "metadata": {},
          "execution_count": 8
        }
      ]
    },
    {
      "cell_type": "code",
      "source": [
        "# Function to binarize images based on the mean pixel value\n",
        "def binarize_images_with_mean(images, mean_image):\n",
        "    # Binarize images: set pixels > mean to 1, others to 0\n",
        "    return (images > mean_image).astype(int)\n",
        "\n",
        "# Binarize the images using the mean pixel value\n",
        "train_images_3_bin = binarize_images_with_mean(train_images_3, train_mean_3)\n",
        "test_images_3_bin = binarize_images_with_mean(test_images_3, test_mean_3)\n",
        "train_images_7_bin = binarize_images_with_mean(train_images_7, train_mean_7)\n",
        "test_images_7_bin = binarize_images_with_mean(test_images_7, test_mean_7)\n",
        "\n",
        "# Plot the first binarized image in each dataset\n",
        "plot_images([train_images_3_bin[0], test_images_3_bin[0], train_images_7_bin[0], test_images_7_bin[0]],\n",
        "            titles=[\"First Train Binarized (3)\", \"First Test Binarized (3)\", \"First Train Binarized (7)\", \"First Test Binarized (7)\"])"
      ],
      "metadata": {
        "colab": {
          "base_uri": "https://localhost:8080/",
          "height": 340
        },
        "id": "uT4crqdgfMMf",
        "outputId": "9e8aefc2-42f6-4760-a9fb-1df8aef0e6cc"
      },
      "execution_count": null,
      "outputs": [
        {
          "output_type": "display_data",
          "data": {
            "text/plain": [
              "<Figure size 1200x600 with 4 Axes>"
            ],
            "image/png": "[encoded data removed]"
          },
          "metadata": {}
        }
      ]
    },
    {
      "cell_type": "markdown",
      "source": [
        "### 2.2.5 What does binarize an image mean\n",
        "When we binarize an image, we are simplifying it by converting it from a `0` to `255` scale into a `0` & `1` version where each pixel is either fully on (represented as `1`) or fully off (represented as `0`). We threshold it based on the mean pixel value for that label or other value of our choice (e.g. 128). This process reduces the complexity of the image and makes it easier to analyze specific patterns or features."
      ],
      "metadata": {
        "id": "DRD14E56cyuC"
      }
    },
    {
      "cell_type": "markdown",
      "source": [
        "### 2.2.6 Similar and dissimilar images\n",
        "For non-binarized images in the training set, the index of the most similar image is 926 and the index of the most dissimilar image is 1729. These index changes for the binarized images. For binarized images in the training set, the index of the most similar image is 5282 and the index of the most dissimilar image is 4857."
      ],
      "metadata": {
        "id": "2wGcmGiceZdu"
      }
    },
    {
      "cell_type": "code",
      "source": [
        "def euclidean_distance(image1, image2):\n",
        "    return np.sqrt(np.sum((image1 - image2) ** 2))\n",
        "\n",
        "# Compute distances between each image and the mean image\n",
        "distances = [euclidean_distance(image, train_mean_3) for image in train_images_3]\n",
        "\n",
        "# Find the most similar and most dissimilar images\n",
        "most_similar_idx = np.argmin(distances)\n",
        "most_dissimilar_idx = np.argmax(distances)\n",
        "\n",
        "# Compute distances for binarized images\n",
        "distances_bin = [euclidean_distance(image, train_mean_3_bin) for image in train_images_3_bin]\n",
        "\n",
        "# Find the most similar and most dissimilar binarized images\n",
        "most_similar_idx_bin = np.argmin(distances_bin)\n",
        "most_dissimilar_idx_bin = np.argmax(distances_bin)\n",
        "\n",
        "# Plot the most similar and dissimilar images for regular data\n",
        "plot_images([train_images_3[most_similar_idx], train_images_3[most_dissimilar_idx]],\n",
        "            titles=[f\"Most Similar (Index: {most_similar_idx})\",\n",
        "                    f\"Most Dissimilar (Index: {most_dissimilar_idx})\"], figsize=(8, 4))\n",
        "\n",
        "# Plot the most similar and dissimilar images for binarized data\n",
        "plot_images([train_images_3_bin[most_similar_idx_bin], train_images_3_bin[most_dissimilar_idx_bin]],\n",
        "            titles=[f\"Most Similar - Binarized (Index: {most_similar_idx_bin})\",\n",
        "                    f\"Most Dissimilar - Binarized (Index: {most_dissimilar_idx_bin})\"], figsize=(8, 4))"
      ],
      "metadata": {
        "id": "aKtd1ZpVed2L",
        "outputId": "af44e49c-b77b-4a0e-9d98-55243c47155f",
        "colab": {
          "base_uri": "https://localhost:8080/",
          "height": 823
        }
      },
      "execution_count": null,
      "outputs": [
        {
          "output_type": "display_data",
          "data": {
            "text/plain": [
              "<Figure size 800x400 with 2 Axes>"
            ],
            "image/png": "[encoded data removed]"
          },
          "metadata": {}
        },
        {
          "output_type": "display_data",
          "data": {
            "text/plain": [
              "<Figure size 800x400 with 2 Axes>"
            ],
            "image/png": "[encoded data removed]"
          },
          "metadata": {}
        }
      ]
    },
    {
      "cell_type": "markdown",
      "source": [
        "### 2.2.7  Effects of binarizing images\n",
        "Through binarizing images, we can simplify the input and make the data easier to process by reducing the noise. Binarization shifts the focus from intensity-based features to presence/absence-based features. However, information about the intensity of pixels can be important for distinguishing subtle patterns or textures in the image."
      ],
      "metadata": {
        "id": "hKevo3ljj1Iz"
      }
    },
    {
      "cell_type": "markdown",
      "source": [
        "### 2.2.8 Standardizing data\n",
        "We transform raw data into a format that is more suitable for machine learning models. We clean up and simplify the data through binarizing images, which can genralize the performance of our model and make it more efficient."
      ],
      "metadata": {
        "id": "5kEffUz7l7g3"
      }
    },
    {
      "cell_type": "markdown",
      "source": [
        "### 2.2.9 Why mean and standard deviation\n",
        "The mean and standard deviation can be used as a way to distinguish between number and its background and provides valuable insights into the structure and variability. They can help us find consistent features across all the images of one label and filter out the highly variable areas. A high standard deviation indicates regions where the category varies the most, which can be useful for identifying outliers, guiding preprocessing, and improving model robustness."
      ],
      "metadata": {
        "id": "sTv22n81nGPP"
      }
    },
    {
      "cell_type": "markdown",
      "metadata": {
        "id": "0h5iMq3vR2nm"
      },
      "source": [
        "# 3. Model Training, Validation, and Intepretation\n",
        "\n",
        "## 3.1 Support Vector Machine\n",
        "\n",
        "From the training dataset, select only images from categories \"3\" and \"9\".\n",
        "\n",
        "Subdivide the data into Set1 and Set2, with 60% of the data in Set1 and 40% in Set2. Replace category labels with 0 for 3 and 1 for 9.\n",
        "\n",
        "Use Set1 to train a linear support vector machine classifier with default parameters and predict the class labels for Set2.\n",
        "\n",
        "The prediction accuracy using the model trained on Set1 to predict Set2 is 0.9752. The prediction accuracy using the model trained on Set1 to predict testing dataset is 0.9762."
      ]
    },
    {
      "cell_type": "code",
      "source": [
        "from sklearn.model_selection import train_test_split\n",
        "from sklearn.svm import SVC\n",
        "from sklearn.metrics import accuracy_score"
      ],
      "metadata": {
        "id": "JfvkaYvd0Z91"
      },
      "execution_count": 5,
      "outputs": []
    },
    {
      "cell_type": "code",
      "source": [
        "# Select images labeled \"3\" and \"9\" from the training set\n",
        "train_images_3 = x_train[y_train == 3]\n",
        "train_images_9 = x_train[y_train == 9]\n",
        "train_images = np.concatenate([train_images_3, train_images_9])\n",
        "\n",
        "# Replace category labels: 0 for \"3\" and 1 for \"9\"\n",
        "train_labels = np.concatenate([np.zeros(len(train_images_3)), np.ones(len(train_images_9))])\n",
        "\n",
        "# Flatten the images (convert 28x28 images to 784-dimensional vectors)\n",
        "train_images = train_images.reshape(train_images.shape[0], -1)\n",
        "\n",
        "# Subdivide the data into Set1 (60%) and Set2 (40%)\n",
        "Set1_images, Set2_images, Set1_labels, Set2_labels = train_test_split(\n",
        "    train_images, train_labels, test_size=0.4, random_state=42\n",
        ")\n",
        "\n",
        "# Train a linear SVM classifier on Set1\n",
        "svm_classifier = SVC(kernel='linear')\n",
        "svm_classifier.fit(Set1_images, Set1_labels)\n",
        "\n",
        "# Predict labels for Set2\n",
        "Set2_predictions = svm_classifier.predict(Set2_images)\n",
        "\n",
        "# Calculate prediction accuracy on Set2\n",
        "accuracy_set2 = accuracy_score(Set2_labels, Set2_predictions)\n",
        "print(f\"Prediction accuracy on Set2: {accuracy_set2:.4f}\")\n",
        "\n",
        "# Repeat the process using the testing set\n",
        "test_images_3 = x_test[y_test == 3]\n",
        "test_images_9 = x_test[y_test == 9]\n",
        "test_images = np.concatenate([test_images_3, test_images_9])\n",
        "\n",
        "# Replace category labels: 0 for \"3\" and 1 for \"9\"\n",
        "test_labels = np.concatenate([np.zeros(len(test_images_3)), np.ones(len(test_images_9))])\n",
        "\n",
        "# Flatten the test images\n",
        "test_images = test_images.reshape(test_images.shape[0], -1)\n",
        "\n",
        "# Predict labels for the testing set\n",
        "test_predictions = svm_classifier.predict(test_images)\n",
        "\n",
        "# Calculate prediction accuracy on the testing set\n",
        "accuracy_test = accuracy_score(test_labels, test_predictions)\n",
        "print(f\"Prediction accuracy on the testing set: {accuracy_test:.4f}\")"
      ],
      "metadata": {
        "id": "grAvdNpd0PoI",
        "outputId": "81516ead-4cb9-49ec-a912-407da2d90e6c",
        "colab": {
          "base_uri": "https://localhost:8080/"
        }
      },
      "execution_count": null,
      "outputs": [
        {
          "output_type": "stream",
          "name": "stdout",
          "text": [
            "Prediction accuracy on Set2: 0.9752\n",
            "Prediction accuracy on the testing set: 0.9762\n"
          ]
        }
      ]
    },
    {
      "cell_type": "markdown",
      "metadata": {
        "id": "jdNntsTgR2nn"
      },
      "source": [
        "## 3.2 Modeling with Engineered Data\n",
        "\n",
        "We describe each image by using a reduced set of features (compared to n = 784 initial features for each pixel value) as follows:\n",
        "\n",
        "- Binarize the image by setting the pixel values to 1 if they are greater than 128 and 0 otherwise.\n",
        "- For each image row i, find n_i, the sum of 1's in the row (28 features).\n",
        "- For each image column j, find n_j, the sum of 1's in the column (28 features).\n",
        "- Concatenate these features to form a feature vector of 56 features.\n",
        "\n",
        "The performance of SVM and KNN is very similar, and both of them perform very well. KNN's performance is slightly higher than SVM."
      ]
    },
    {
      "cell_type": "code",
      "source": [
        "from sklearn.metrics import accuracy_score"
      ],
      "metadata": {
        "id": "_LVoGBtD0-xx"
      },
      "execution_count": 4,
      "outputs": []
    },
    {
      "cell_type": "code",
      "source": [
        "# Select images labeled \"3\" and \"9\" from the training and testing sets\n",
        "train_images_3 = x_train[y_train == 3]\n",
        "train_images_9 = x_train[y_train == 9]\n",
        "train_images = np.concatenate([train_images_3, train_images_9])\n",
        "train_labels = np.concatenate([np.zeros(len(train_images_3)), np.ones(len(train_images_9))])\n",
        "\n",
        "test_images_3 = x_test[y_test == 3]\n",
        "test_images_9 = x_test[y_test == 9]\n",
        "test_images = np.concatenate([test_images_3, test_images_9])\n",
        "test_labels = np.concatenate([np.zeros(len(test_images_3)), np.ones(len(test_images_9))])\n",
        "\n",
        "# Function to binarize images and extract row/column sums\n",
        "def extract_features(images):\n",
        "    # Binarize images\n",
        "    binarized_images = (images > 128).astype(int)\n",
        "\n",
        "    # Compute row sums (28 features)\n",
        "    row_sums = np.sum(binarized_images, axis=2)\n",
        "\n",
        "    # Compute column sums (28 features)\n",
        "    column_sums = np.sum(binarized_images, axis=1)\n",
        "\n",
        "    # Concatenate row and column sums to form a feature vector of 56 features\n",
        "    features = np.concatenate([row_sums, column_sums], axis=1)\n",
        "\n",
        "    return features\n",
        "\n",
        "# Extract features for training and testing sets\n",
        "train_features = extract_features(train_images)\n",
        "test_features = extract_features(test_images)\n",
        "\n",
        "# Subdivide the training data into Set1 (60%) and Set2 (40%)\n",
        "Set1_features, Set2_features, Set1_labels, Set2_labels = train_test_split(\n",
        "    train_features, train_labels, test_size=0.4, random_state=42\n",
        ")\n",
        "\n",
        "# Train an SVM model on Set1\n",
        "svm_classifier = SVC(kernel='linear')\n",
        "svm_classifier.fit(Set1_features, Set1_labels)\n",
        "\n",
        "# Predict labels for Set2 and the testing set using SVM\n",
        "Set2_predictions_svm = svm_classifier.predict(Set2_features)\n",
        "test_predictions_svm = svm_classifier.predict(test_features)\n",
        "\n",
        "# Calculate prediction accuracy for SVM\n",
        "accuracy_set2_svm = accuracy_score(Set2_labels, Set2_predictions_svm)\n",
        "accuracy_test_svm = accuracy_score(test_labels, test_predictions_svm)\n",
        "\n",
        "print(f\"SVM Prediction accuracy on Set2: {accuracy_set2_svm:.4f}\")\n",
        "print(f\"SVM Prediction accuracy on the testing set: {accuracy_test_svm:.4f}\")\n",
        "\n",
        "# Train a KNN model on Set1\n",
        "knn_classifier = KNeighborsClassifier(n_neighbors=5)\n",
        "knn_classifier.fit(Set1_features, Set1_labels)\n",
        "\n",
        "# Predict labels for Set2 and the testing set using KNN\n",
        "Set2_predictions_knn = knn_classifier.predict(Set2_features)\n",
        "test_predictions_knn = knn_classifier.predict(test_features)\n",
        "\n",
        "# Calculate prediction accuracy for KNN\n",
        "accuracy_set2_knn = accuracy_score(Set2_labels, Set2_predictions_knn)\n",
        "accuracy_test_knn = accuracy_score(test_labels, test_predictions_knn)\n",
        "\n",
        "print(f\"KNN Prediction accuracy on Set2: {accuracy_set2_knn:.4f}\")\n",
        "print(f\"KNN Prediction accuracy on the testing set: {accuracy_test_knn:.4f}\")"
      ],
      "metadata": {
        "id": "ZvHqLpJx0ySC",
        "outputId": "cbbe313b-d179-4bf3-ab29-a0ab52ba3b86",
        "colab": {
          "base_uri": "https://localhost:8080/"
        }
      },
      "execution_count": null,
      "outputs": [
        {
          "output_type": "stream",
          "name": "stdout",
          "text": [
            "SVM Prediction accuracy on Set2: 0.9638\n",
            "SVM Prediction accuracy on the testing set: 0.9638\n",
            "KNN Prediction accuracy on Set2: 0.9685\n",
            "KNN Prediction accuracy on the testing set: 0.9658\n"
          ]
        }
      ]
    },
    {
      "cell_type": "markdown",
      "metadata": {
        "id": "ZqpJVtujR2nn"
      },
      "source": [
        "## 3.3 K-Nearest Neighbors\n",
        "\n",
        "In the training and testing datasets, select images in the categories 1, 3, 5, 7, and 9. Train a k-NN classifier using 4 to 40 nearest neighbors, with a step size of 4.\n",
        "\n",
        "For k = 4, label 9 was predicted with lowest accuracy.\n",
        "\n",
        "For k = 20, label 7 was predicted with lowest accuracy.\n",
        "\n",
        "label 7 and label 1 were confused most often.\n",
        "\n",
        "Visualize 5 mislabeled samples with their actual and predicted labels."
      ]
    },
    {
      "cell_type": "code",
      "source": [
        "from sklearn.neighbors import KNeighborsClassifier\n",
        "from sklearn.metrics import accuracy_score, confusion_matrix"
      ],
      "metadata": {
        "id": "H9cfchYWtzg9"
      },
      "execution_count": 6,
      "outputs": []
    },
    {
      "cell_type": "code",
      "source": [
        "# Select images labeled 1, 3, 5, 7, and 9\n",
        "selected_labels = [1, 3, 5, 7, 9]\n",
        "train_mask = np.isin(y_train, selected_labels)\n",
        "test_mask = np.isin(y_test, selected_labels)\n",
        "\n",
        "x_train_selected = x_train[train_mask]\n",
        "y_train_selected = y_train[train_mask]\n",
        "x_test_selected = x_test[test_mask]\n",
        "y_test_selected = y_test[test_mask]\n",
        "\n",
        "# Flatten the images (convert 28x28 images to 784-dimensional vectors)\n",
        "x_train_selected = x_train_selected.reshape(x_train_selected.shape[0], -1)\n",
        "x_test_selected = x_test_selected.reshape(x_test_selected.shape[0], -1)\n",
        "\n",
        "# Train a k-NN classifier for k = 4 to 40, step size of 4\n",
        "k_values = range(4, 41, 4)\n",
        "results = {}\n",
        "\n",
        "for k in k_values:\n",
        "    knn_classifier = KNeighborsClassifier(n_neighbors=k)\n",
        "    knn_classifier.fit(x_train_selected, y_train_selected)\n",
        "\n",
        "    # Predict labels for the testing set\n",
        "    y_pred = knn_classifier.predict(x_test_selected)\n",
        "\n",
        "    # Calculate accuracy\n",
        "    accuracy = accuracy_score(y_test_selected, y_pred)\n",
        "\n",
        "    # Calculate confusion matrix\n",
        "    cm = confusion_matrix(y_test_selected, y_pred, labels=selected_labels)\n",
        "\n",
        "    # Store results\n",
        "    results[k] = {\n",
        "        'accuracy': accuracy,\n",
        "        'confusion_matrix': cm\n",
        "    }\n",
        "\n",
        "# For k = 4, find the label predicted with the lowest accuracy\n",
        "k4_cm = results[4]['confusion_matrix']\n",
        "k4_accuracy_per_label = k4_cm.diagonal() / k4_cm.sum(axis=1)\n",
        "k4_worst_label = selected_labels[np.argmin(k4_accuracy_per_label)]\n",
        "print(f\"For k=4, the label predicted with the lowest accuracy is: {k4_worst_label}\")\n",
        "\n",
        "# For k = 20, find the label predicted with the lowest accuracy\n",
        "k20_cm = results[20]['confusion_matrix']\n",
        "k20_accuracy_per_label = k20_cm.diagonal() / k20_cm.sum(axis=1)\n",
        "k20_worst_label = selected_labels[np.argmin(k20_accuracy_per_label)]\n",
        "print(f\"For k=20, the label predicted with the lowest accuracy is: {k20_worst_label}\")\n",
        "\n",
        "# Find the label pair that was confused most often\n",
        "# Sum confusion matrices across all k values\n",
        "total_cm = sum([results[k]['confusion_matrix'] for k in k_values])\n",
        "np.fill_diagonal(total_cm, 0)  # Ignore correct predictions\n",
        "most_confused_pair = np.unravel_index(np.argmax(total_cm), total_cm.shape)\n",
        "most_confused_labels = (selected_labels[most_confused_pair[0]], selected_labels[most_confused_pair[1]])\n",
        "print(f\"The label pair confused most often is: {most_confused_labels}\")\n",
        "\n",
        "# Visualize 5 mislabeled samples\n",
        "knn_classifier = KNeighborsClassifier(n_neighbors=4)\n",
        "knn_classifier.fit(x_train_selected, y_train_selected)\n",
        "y_pred = knn_classifier.predict(x_test_selected)\n",
        "\n",
        "mislabeled_indices = np.where(y_pred != y_test_selected)[0][:5]  # First 5 mislabeled samples\n",
        "\n",
        "plt.figure(figsize=(12, 6))\n",
        "for i, idx in enumerate(mislabeled_indices):\n",
        "    plt.subplot(1, 5, i + 1)\n",
        "    plt.imshow(x_test_selected[idx].reshape(28, 28), cmap='gray')\n",
        "    plt.title(f\"True: {y_test_selected[idx]}, Pred: {y_pred[idx]}\")\n",
        "    plt.axis('off')\n",
        "plt.tight_layout()\n",
        "plt.show()"
      ],
      "metadata": {
        "colab": {
          "base_uri": "https://localhost:8080/",
          "height": 333
        },
        "id": "9aw6IDLymdrT",
        "outputId": "41505758-7942-4fae-f560-07c337bea742"
      },
      "execution_count": 7,
      "outputs": [
        {
          "output_type": "stream",
          "name": "stdout",
          "text": [
            "For k=4, the label predicted with the lowest accuracy is: 9\n",
            "For k=20, the label predicted with the lowest accuracy is: 7\n",
            "The label pair confused most often is: (7, 1)\n"
          ]
        },
        {
          "output_type": "display_data",
          "data": {
            "text/plain": [
              "<Figure size 1200x600 with 5 Axes>"
            ],
            "image/png": "[encoded data removed]"
          },
          "metadata": {}
        }
      ]
    },
    {
      "cell_type": "markdown",
      "source": [
        "Based on the patterns in the pixel values for each category, the model might struggle to identify or distinguish labels 7 and 9 from one another. The reason for label 7 to become hard to identify may be because of the writing style of it. Some people may prefer adding a dot on 7 while other people just write 7 as it is. When adding a dot, the pattern of 7 starts to become very similar to 9, especially if the hand writing is very sketchy."
      ],
      "metadata": {
        "id": "fD0nacs5qI3p"
      }
    },
    {
      "cell_type": "markdown",
      "metadata": {
        "id": "fCzYPUAYR2no"
      },
      "source": [
        "## 3.4 Comprehension Questions\n",
        "\n",
        "It important to have separate training and testing datasets in order to get a more generalized model. It provides a more realistic measure of its ability to generalize to new, unseen examples. If we use the same data for both training and evaluation, overfitting will occur and make the model perform very good when testing but very bad when applying to other data.\n",
        "\n",
        "If we achieve high accuracy on the training set but lower accuracy on the testing set, this is a classic sign of overfitting. Overfitting occurs when a model learns the noise, outliers, or specific patterns in the training data"
      ]
    }
  ],
  "metadata": {
    "language_info": {
      "name": "python"
    },
    "colab": {
      "provenance": [],
      "include_colab_link": true
    },
    "kernelspec": {
      "name": "python3",
      "display_name": "Python 3"
    }
  },
  "nbformat": 4,
  "nbformat_minor": 0
}