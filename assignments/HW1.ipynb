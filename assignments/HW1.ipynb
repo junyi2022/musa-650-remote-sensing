{
  "cells": [
    {
      "cell_type": "markdown",
      "metadata": {
        "id": "view-in-github",
        "colab_type": "text"
      },
      "source": [
        "<a href=\"https://colab.research.google.com/github/junyi2022/musa-650-remote-sensing/blob/main/assignments/HW1.ipynb\" target=\"_parent\"><img src=\"https://colab.research.google.com/assets/colab-badge.svg\" alt=\"Open In Colab\"/></a>"
      ]
    },
    {
      "cell_type": "markdown",
      "metadata": {
        "id": "9k7jGJkbR2nf"
      },
      "source": [
        "# MUSA 650 Homework 1: Basics of Machine Learning\n",
        "\n",
        "In this assignment, you’ll explore fundamental machine learning concepts and techniques, with a focus on data preprocessing, image manipulation, and model evaluation."
      ]
    },
    {
      "cell_type": "markdown",
      "source": [
        "**Disclaimer:** I consulted the following AI tool to revise codes and answer questions for this project.\n",
        "\n",
        "- DeepSeek. (n.d.). DeepSeek artificial intelligence system. Retrieved from https://www.deepseek.com"
      ],
      "metadata": {
        "id": "OuEhvvT3ncPA"
      }
    },
    {
      "cell_type": "markdown",
      "metadata": {
        "id": "63yvSesBR2nj"
      },
      "source": [
        "# 1. Data Exploration\n",
        "\n",
        "Load the mnist dataset using the following code. The mnist dataset is a collection of 28x28 grayscale images of handwritten digits (0-9). Each image is represented as a 2D array (28 rows and 28 columns), and each pixel is a feature. The y data contains labels for the x data."
      ]
    },
    {
      "cell_type": "code",
      "execution_count": 1,
      "metadata": {
        "vscode": {
          "languageId": "plaintext"
        },
        "id": "O5k_iD-mR2nj",
        "outputId": "8b7dd2d5-fd2b-449f-8e27-c02588763641",
        "colab": {
          "base_uri": "https://localhost:8080/"
        }
      },
      "outputs": [
        {
          "output_type": "stream",
          "name": "stdout",
          "text": [
            "Downloading data from https://storage.googleapis.com/tensorflow/tf-keras-datasets/mnist.npz\n",
            "\u001b[1m11490434/11490434\u001b[0m \u001b[32m━━━━━━━━━━━━━━━━━━━━\u001b[0m\u001b[37m\u001b[0m \u001b[1m2s\u001b[0m 0us/step\n"
          ]
        }
      ],
      "source": [
        "import pandas as pandas\n",
        "import numpy as np\n",
        "import matplotlib.pyplot as plt\n",
        "import keras\n",
        "\n",
        "from keras.datasets import mnist\n",
        "\n",
        "(x_train, y_train), (x_test, y_test) = mnist.load_data()"
      ]
    },
    {
      "cell_type": "markdown",
      "source": [
        "## 1.1 Dimensionality"
      ],
      "metadata": {
        "id": "5XbjwlyerU1H"
      }
    },
    {
      "cell_type": "markdown",
      "source": [
        "### 1.1.1 Data Type\n",
        "The type of the training and testing dataset are numpy n-dimensional array."
      ],
      "metadata": {
        "id": "ijrxGQ_PSTy0"
      }
    },
    {
      "cell_type": "code",
      "source": [
        "type(x_train)\n",
        "type(x_test)"
      ],
      "metadata": {
        "colab": {
          "base_uri": "https://localhost:8080/"
        },
        "id": "e2vRN0OISISa",
        "outputId": "2146e466-b816-4152-abaf-38020fc9526c"
      },
      "execution_count": 2,
      "outputs": [
        {
          "output_type": "execute_result",
          "data": {
            "text/plain": [
              "numpy.ndarray"
            ]
          },
          "metadata": {},
          "execution_count": 2
        }
      ]
    },
    {
      "cell_type": "markdown",
      "source": [
        "### 1.1.2 Number of features and samples\n",
        "The shape of `x_train` and `x_test` is (num_samples, height, width). Therefore, there are 60000 samples in the training dataset and 10000 samples in the testing dataset. Each sample is an image of 28 x 28 = 784 features."
      ],
      "metadata": {
        "id": "gCd_L3tXUJpR"
      }
    },
    {
      "cell_type": "code",
      "source": [
        "x_train.shape"
      ],
      "metadata": {
        "colab": {
          "base_uri": "https://localhost:8080/"
        },
        "id": "uZE4anAhT2Yf",
        "outputId": "ef18e4f3-7ca0-4c61-f294-c809db7815ae"
      },
      "execution_count": null,
      "outputs": [
        {
          "output_type": "execute_result",
          "data": {
            "text/plain": [
              "(60000, 28, 28)"
            ]
          },
          "metadata": {},
          "execution_count": 17
        }
      ]
    },
    {
      "cell_type": "code",
      "source": [
        "x_test.shape"
      ],
      "metadata": {
        "colab": {
          "base_uri": "https://localhost:8080/"
        },
        "id": "FravW7fsT8oG",
        "outputId": "032b1a4e-b100-4bfb-fc22-c80b443c4c0f"
      },
      "execution_count": null,
      "outputs": [
        {
          "output_type": "execute_result",
          "data": {
            "text/plain": [
              "(10000, 28, 28)"
            ]
          },
          "metadata": {},
          "execution_count": 18
        }
      ]
    },
    {
      "cell_type": "markdown",
      "source": [
        "### 1.1.3 Explore `.shape`\n",
        "If an array has a shape of (100, 28, 28), 100 means the number of images and 28 represent the number of pixels. When flattening the 3D array (100, 28, 28) into a 2D array, I convert each 28x28 image into a 1D array of 784 pixels. The resulting shape will be (100, 784)."
      ],
      "metadata": {
        "id": "rn6-KFy_WR4x"
      }
    },
    {
      "cell_type": "markdown",
      "source": [
        "### 1.1.4 How to convert from 3D array to 2D array\n",
        "`flaten()` and `reshape()` can be used to convert a 3D array into a 2D array without changing the total number of elements. Both methods achieve the same goal but differ in how they handle memory and the resulting array.\n",
        "\n",
        "The `reshape()` function does not create a copy of the data unless necessary, making it memory-efficient."
      ],
      "metadata": {
        "id": "eSZNJjl7Zjk4"
      }
    },
    {
      "cell_type": "code",
      "source": [
        "x_train_2d = x_train.reshape(x_train.shape[0], -1) # -1 automatically calculates the size of the second dimension based on the total number of elements.\n",
        "x_train_2d.shape"
      ],
      "metadata": {
        "colab": {
          "base_uri": "https://localhost:8080/"
        },
        "id": "doIr6fxzbKAT",
        "outputId": "0e8628d6-ad07-4257-b978-8cd58c94ddeb"
      },
      "execution_count": null,
      "outputs": [
        {
          "output_type": "execute_result",
          "data": {
            "text/plain": [
              "(60000, 784)"
            ]
          },
          "metadata": {},
          "execution_count": 20
        }
      ]
    },
    {
      "cell_type": "markdown",
      "source": [
        "The `flatten()` method always returns a copy of the data as a 1D array and is less memory-efficient."
      ],
      "metadata": {
        "id": "e27IO67acV5f"
      }
    },
    {
      "cell_type": "code",
      "source": [
        "flattened_x_train = x_train.flatten()\n",
        "x_train_2d = flattened_x_train.reshape(x_train.shape[0], -1)"
      ],
      "metadata": {
        "id": "0zrYl7TtbZ-l"
      },
      "execution_count": null,
      "outputs": []
    },
    {
      "cell_type": "code",
      "source": [
        "print(\"Original 3D array shape:\", x_train.shape)\n",
        "print(\"Flattened 1D array shape:\", flattened_x_train.shape)\n",
        "print(\"Reshaped 2D array shape:\", x_train_2d.shape)"
      ],
      "metadata": {
        "colab": {
          "base_uri": "https://localhost:8080/"
        },
        "id": "11ui9H6rctd3",
        "outputId": "db463a33-125e-4baf-a7b8-4e929967bd59"
      },
      "execution_count": null,
      "outputs": [
        {
          "output_type": "stream",
          "name": "stdout",
          "text": [
            "Original 3D array shape: (60000, 28, 28)\n",
            "Flattened 1D array shape: (47040000,)\n",
            "Reshaped 2D array shape: (60000, 784)\n"
          ]
        }
      ]
    },
    {
      "cell_type": "markdown",
      "source": [
        "Use `reshape()` when you want to change the shape of an array without copying data.\n",
        "\n",
        "Use `flatten()` when you need a 1D copy of the array, or when you want to ensure the data is contiguous in memory.\n",
        "\n",
        "For converting a 3D array to a 2D array, `reshape()` is generally preferred due to its memory efficiency."
      ],
      "metadata": {
        "id": "lvTz7yufdnq4"
      }
    },
    {
      "cell_type": "markdown",
      "source": [
        "### 1.1.5 Why reshape when transitioning from raw images to model input\n",
        "1. Model Input Requirements:\n",
        "\n",
        "- Most neural networks (e.g., fully connected layers in a Multilayer Perceptron) expect input data in a specific format, typically a 2D array where:\n",
        "\n",
        "  - Each row represents a sample (e.g., an image).\n",
        "\n",
        "  - Each column represents a feature (e.g., a pixel value).\n",
        "\n",
        "- Raw image data is often stored as a 3D array (e.g., (num_samples, height, width) for grayscale images or (num_samples, height, width, channels) for RGB images). Reshaping converts this into the required 2D format.\n",
        "\n",
        "2. Flattening for Fully Connected Layers:\n",
        "\n",
        "- Fully connected (dense) layers in neural networks require input data to be in the form of vectors (1D arrays). Each neuron in the layer connects to every input feature, so the input must be flattened into a 1D array.\n",
        "\n",
        "3. Consistency in Data Representation:\n",
        "\n",
        "- Reshaping ensures that all images have the same input format, which is necessary for batch processing and efficient computation.\n",
        "\n",
        "4. Memory and Computational Efficiency:\n",
        "\n",
        "- Reshaping allows the data to be stored in a contiguous block of memory, which improves computational efficiency and makes it easier to perform vectorized operations."
      ],
      "metadata": {
        "id": "LYf5pG82lI41"
      }
    },
    {
      "cell_type": "markdown",
      "source": [
        "### 1.1.6 Implications of reshaping an image array into a vector (1D array) for each sample\n",
        "\n",
        "1. Loss of Spatial Structure:\n",
        "- When an image is flattened into a 1D array, the spatial relationships between pixels (e.g., neighboring pixels) are lost.\n",
        "\n",
        "- This can be a disadvantage for tasks where spatial information is important (e.g., object detection, image segmentation).\n",
        "\n",
        "2. Increased Dimensionality:\n",
        "- Flattening increases the dimensionality of the input data. For example, a 28x28 grayscale image becomes a vector of length 784. This can lead to:\n",
        "\n",
        "  - High computational cost: More parameters are required in fully connected layers, increasing the complexity of the model.\n",
        "\n",
        "  - Risk of overfitting: With more features, the model may overfit the training data if not regularized properly.\n",
        "\n",
        "3. Compatibility with Fully Connected Layers:\n",
        "- Flattening is necessary to make the data compatible with fully connected layers, where each input feature (pixel) is connected to every neuron in the layer.\n",
        "\n",
        "4. Impact on Model Architecture:\n",
        "- Flattening is typically done before passing data to fully connected layers. However, for convolutional neural networks (CNNs), flattening is usually done after convolutional and pooling layers to preserve spatial information during feature extraction."
      ],
      "metadata": {
        "id": "mCAU50FmpF1n"
      }
    },
    {
      "cell_type": "markdown",
      "metadata": {
        "id": "qANVXdGYR2nl"
      },
      "source": [
        "## 1.2 Visualization\n",
        "\n",
        "Select one random example from each category in the testing set, display each 2D image, and label it with the corresponding category name."
      ]
    },
    {
      "cell_type": "code",
      "source": [
        "categories = np.unique(y_test)\n",
        "categories"
      ],
      "metadata": {
        "id": "dl2ddDXLrw7s",
        "outputId": "6daa91ed-5f24-4c98-f77f-177c82bf8bdf",
        "colab": {
          "base_uri": "https://localhost:8080/"
        }
      },
      "execution_count": 3,
      "outputs": [
        {
          "output_type": "execute_result",
          "data": {
            "text/plain": [
              "array([0, 1, 2, 3, 4, 5, 6, 7, 8, 9], dtype=uint8)"
            ]
          },
          "metadata": {},
          "execution_count": 3
        }
      ]
    },
    {
      "cell_type": "code",
      "source": [
        "plt.figure(figsize=(12, 6))\n",
        "\n",
        "# Loop through each category and select one random example\n",
        "for i, category in enumerate(categories):\n",
        "    # Find indices of all samples in the current category\n",
        "    indices = np.where(y_test == category)[0]\n",
        "\n",
        "    # Randomly select one index from the current category\n",
        "    random_index = np.random.choice(indices)\n",
        "\n",
        "    # Extract the image and label\n",
        "    image = x_test[random_index]\n",
        "    label = y_test[random_index]\n",
        "\n",
        "    # Plot the image\n",
        "    plt.subplot(2, 5, i + 1)  # 2 rows, 5 columns\n",
        "    plt.imshow(image, cmap='gray')\n",
        "    plt.title(f\"Label: {label}\")\n",
        "    plt.axis('off')\n",
        "\n",
        "# Display the figure\n",
        "plt.tight_layout()\n",
        "plt.show()\n"
      ],
      "metadata": {
        "id": "m8V56kjlsCuH",
        "outputId": "3c0e8382-ba15-4e9b-8136-e3a9c1262d22",
        "colab": {
          "base_uri": "https://localhost:8080/",
          "height": 560
        }
      },
      "execution_count": 6,
      "outputs": [
        {
          "output_type": "display_data",
          "data": {
            "text/plain": [
              "<Figure size 1200x600 with 10 Axes>"
            ],
            "image/png": "[encoded data removed]"
          },
          "metadata": {}
        }
      ]
    },
    {
      "cell_type": "markdown",
      "metadata": {
        "id": "y9jUU3lKR2nl"
      },
      "source": [
        "# 2. Data Processing"
      ]
    },
    {
      "cell_type": "markdown",
      "source": [
        "## 2.1 Subsetting"
      ],
      "metadata": {
        "id": "GelxBxCrgIhV"
      }
    },
    {
      "cell_type": "markdown",
      "source": [
        "### 2.1.1 10% random subset of each training and testing set\n",
        "Create a 10% random subset of each training and testing set. The distribution of each label in the initial train data and the reduced train data are shown in the plots and texts. In both cases, the distribution of the reduced train data is very similar to the distribution of the initial train data."
      ],
      "metadata": {
        "id": "PSbqbQxzQVzc"
      }
    },
    {
      "cell_type": "code",
      "source": [
        "# create a random subset of the data\n",
        "def create_random_subset(x, y, subset_fraction):\n",
        "    num_samples = len(x)\n",
        "    subset_size = int(num_samples * subset_fraction)\n",
        "    random_indices = np.random.choice(num_samples, subset_size, replace=False)\n",
        "    return x[random_indices], y[random_indices]\n",
        "\n",
        "x_train_subset, y_train_subset = create_random_subset(x_train, y_train, 0.1)\n",
        "x_test_subset, y_test_subset = create_random_subset(x_test, y_test, 0.1)\n",
        "\n",
        "# calculate the distribution of each label\n",
        "def calculate_label_distribution(y):\n",
        "    unique_labels, counts = np.unique(y, return_counts=True)\n",
        "    return dict(zip(unique_labels, counts))\n",
        "\n",
        "initial_train_distribution = calculate_label_distribution(y_train)\n",
        "reduced_train_distribution = calculate_label_distribution(y_train_subset)\n",
        "\n",
        "# plot distribution\n",
        "plt.figure(figsize=(12, 3))\n",
        "\n",
        "# Initial training set distribution\n",
        "plt.subplot(1, 2, 1)\n",
        "plt.bar(initial_train_distribution.keys(), initial_train_distribution.values(), color='#accab2', alpha=1)\n",
        "plt.title(\"Initial Training Set Label Distribution\")\n",
        "plt.xlabel(\"Label (Digit)\")\n",
        "plt.ylabel(\"Count\")\n",
        "plt.xticks(range(10))  # Ensure x-axis labels are 0-9\n",
        "plt.grid(axis='y', linestyle='--', alpha=0.7)\n",
        "\n",
        "# Reduced training set distribution\n",
        "plt.subplot(1, 2, 2)\n",
        "plt.bar(reduced_train_distribution.keys(), reduced_train_distribution.values(), color='#e9a752', alpha=1)\n",
        "plt.title(\"Reduced Training Set Label Distribution (10% Subset)\")\n",
        "plt.xlabel(\"Label (Digit)\")\n",
        "plt.ylabel(\"Count\")\n",
        "plt.xticks(range(10))  # Ensure x-axis labels are 0-9\n",
        "plt.grid(axis='y', linestyle='--', alpha=0.7)\n",
        "\n",
        "# Display the plots\n",
        "plt.tight_layout()\n",
        "plt.show()"
      ],
      "metadata": {
        "id": "v7Bo_jPmQTwF",
        "outputId": "25680e12-1492-4138-ea9b-18977f44aad7",
        "colab": {
          "base_uri": "https://localhost:8080/",
          "height": 307
        }
      },
      "execution_count": 15,
      "outputs": [
        {
          "output_type": "display_data",
          "data": {
            "text/plain": [
              "<Figure size 1200x300 with 2 Axes>"
            ],
            "image/png": "[encoded data removed]"
          },
          "metadata": {}
        }
      ]
    },
    {
      "cell_type": "code",
      "source": [
        "# Print the distributions\n",
        "print(\"Initial Training Set Label Distribution:\")\n",
        "for label, count in initial_train_distribution.items():\n",
        "    print(f\"Label {label}: {count} samples\")\n",
        "\n",
        "print(\"\\nReduced Training Set Label Distribution:\")\n",
        "for label, count in reduced_train_distribution.items():\n",
        "    print(f\"Label {label}: {count} samples\")"
      ],
      "metadata": {
        "id": "SaaTvqUdTXDe",
        "outputId": "212f6474-a3f0-44b6-cfe4-07ed6a7c4704",
        "colab": {
          "base_uri": "https://localhost:8080/"
        }
      },
      "execution_count": 16,
      "outputs": [
        {
          "output_type": "stream",
          "name": "stdout",
          "text": [
            "Initial Training Set Label Distribution:\n",
            "Label 0: 5923 samples\n",
            "Label 1: 6742 samples\n",
            "Label 2: 5958 samples\n",
            "Label 3: 6131 samples\n",
            "Label 4: 5842 samples\n",
            "Label 5: 5421 samples\n",
            "Label 6: 5918 samples\n",
            "Label 7: 6265 samples\n",
            "Label 8: 5851 samples\n",
            "Label 9: 5949 samples\n",
            "\n",
            "Reduced Training Set Label Distribution:\n",
            "Label 0: 545 samples\n",
            "Label 1: 683 samples\n",
            "Label 2: 607 samples\n",
            "Label 3: 613 samples\n",
            "Label 4: 585 samples\n",
            "Label 5: 532 samples\n",
            "Label 6: 592 samples\n",
            "Label 7: 645 samples\n",
            "Label 8: 587 samples\n",
            "Label 9: 611 samples\n"
          ]
        }
      ]
    },
    {
      "cell_type": "markdown",
      "source": [
        "### 2.1.2 Subset the **first** 10% of each training and testing set\n",
        "The distribution of each label in the initial train data and the reduced train data are shown in the plots and texts. When extracting the first 10% of the dataset, the distribution of the reduced train data has more variation to the distribution of the initial train data than the above random selection."
      ],
      "metadata": {
        "id": "ci4e8546UDsx"
      }
    },
    {
      "cell_type": "code",
      "source": [
        "# subset the first 10% of the data\n",
        "def subset_first_10_percent(x, y):\n",
        "    subset_size = int(len(x) * 0.1)\n",
        "    return x[:subset_size], y[:subset_size]\n",
        "\n",
        "x_train_subset, y_train_subset = subset_first_10_percent(x_train, y_train)\n",
        "x_test_subset, y_test_subset = subset_first_10_percent(x_test, y_test)\n",
        "\n",
        "# calculate the distribution of each label\n",
        "initial_train_distribution = calculate_label_distribution(y_train)\n",
        "reduced_train_distribution = calculate_label_distribution(y_train_subset)\n",
        "\n",
        "# Plot\n",
        "plt.figure(figsize=(12, 3))\n",
        "\n",
        "# Initial training set distribution\n",
        "plt.subplot(1, 2, 1)\n",
        "plt.bar(initial_train_distribution.keys(), initial_train_distribution.values(), color='#accab2', alpha=1)\n",
        "plt.title(\"Initial Training Set Label Distribution\")\n",
        "plt.xlabel(\"Label (Digit)\")\n",
        "plt.ylabel(\"Count\")\n",
        "plt.xticks(range(10))  # Ensure x-axis labels are 0-9\n",
        "plt.grid(axis='y', linestyle='--', alpha=0.7)\n",
        "\n",
        "# Reduced training set distribution\n",
        "plt.subplot(1, 2, 2)\n",
        "plt.bar(reduced_train_distribution.keys(), reduced_train_distribution.values(), color='#e9a752', alpha=1)\n",
        "plt.title(\"Reduced Training Set Label Distribution (First 10%)\")\n",
        "plt.xlabel(\"Label (Digit)\")\n",
        "plt.ylabel(\"Count\")\n",
        "plt.xticks(range(10))  # Ensure x-axis labels are 0-9\n",
        "plt.grid(axis='y', linestyle='--', alpha=0.7)\n",
        "\n",
        "# Display the plots\n",
        "plt.tight_layout()\n",
        "plt.show()"
      ],
      "metadata": {
        "id": "hOgEhP5DURIk",
        "outputId": "875f96dc-89c2-4d90-e52e-aee46c26f029",
        "colab": {
          "base_uri": "https://localhost:8080/",
          "height": 307
        }
      },
      "execution_count": 20,
      "outputs": [
        {
          "output_type": "display_data",
          "data": {
            "text/plain": [
              "<Figure size 1200x300 with 2 Axes>"
            ],
            "image/png": "[encoded data removed]"
          },
          "metadata": {}
        }
      ]
    },
    {
      "cell_type": "code",
      "source": [
        "# Print the distributions\n",
        "print(\"Initial Training Set Label Distribution:\")\n",
        "for label, count in initial_train_distribution.items():\n",
        "    print(f\"Label {label}: {count} samples\")\n",
        "\n",
        "print(\"\\nReduced Training Set Label Distribution (First 10%):\")\n",
        "for label, count in reduced_train_distribution.items():\n",
        "    print(f\"Label {label}: {count} samples\")"
      ],
      "metadata": {
        "id": "0xz8oxQJUkKf",
        "outputId": "c05d750d-e55e-4f25-facb-c14b86504a11",
        "colab": {
          "base_uri": "https://localhost:8080/"
        }
      },
      "execution_count": 21,
      "outputs": [
        {
          "output_type": "stream",
          "name": "stdout",
          "text": [
            "Initial Training Set Label Distribution:\n",
            "Label 0: 5923 samples\n",
            "Label 1: 6742 samples\n",
            "Label 2: 5958 samples\n",
            "Label 3: 6131 samples\n",
            "Label 4: 5842 samples\n",
            "Label 5: 5421 samples\n",
            "Label 6: 5918 samples\n",
            "Label 7: 6265 samples\n",
            "Label 8: 5851 samples\n",
            "Label 9: 5949 samples\n",
            "\n",
            "Reduced Training Set Label Distribution (First 10%):\n",
            "Label 0: 592 samples\n",
            "Label 1: 671 samples\n",
            "Label 2: 581 samples\n",
            "Label 3: 608 samples\n",
            "Label 4: 623 samples\n",
            "Label 5: 514 samples\n",
            "Label 6: 608 samples\n",
            "Label 7: 651 samples\n",
            "Label 8: 551 samples\n",
            "Label 9: 601 samples\n"
          ]
        }
      ]
    },
    {
      "cell_type": "markdown",
      "source": [
        "### 2.1.3 Comparision between random selection and select the first portion\n",
        "From the above results, we can see that the distribution of labels in the random selection is more similar to the label distribution in the full dataset than the selection of the first portion. In this way, random selection is more represented of the full dataset and minimizes potential bias. Selecting the first portion is acceptable if the dataset is well-shuffled, but it can introduce bias if the dataset is ordered."
      ],
      "metadata": {
        "id": "VJQYclJvef2s"
      }
    },
    {
      "cell_type": "markdown",
      "source": [
        "### 2.1.4 Why might subsampling a dataset be beneficial when developing machine learning models\n",
        "\n",
        "**Benefits of Subsampling**\n",
        "1. Reduced Computational Cost:\n",
        "\n",
        "- Training Time\n",
        "\n",
        "- Memory Usage\n",
        "\n",
        "2. Faster Iteration and Experimentation:\n",
        "\n",
        "- Subsampling allows for quicker prototyping and experimentation with different models, hyperparameters, and preprocessing techniques.\n",
        "\n",
        "3. Debugging and Development:\n",
        "\n",
        "- A smaller dataset is easier to inspect, visualize, and debug.\n",
        "\n",
        "4. Class Imbalance Mitigation:\n",
        "\n",
        "- If the original dataset is imbalanced, subsampling can be used to create a more balanced subset, which can improve model performance for underrepresented classes.\n",
        "\n",
        "5. Avoiding Overfitting:\n",
        "\n",
        "- For very large datasets, subsampling can help avoid overfitting by reducing the amount of data the model is exposed to.\n",
        "\n",
        "6. Distributed and Parallel Processing:\n",
        "\n",
        "- Subsampling can make it easier to distribute data across multiple nodes or processes for parallel training.\n",
        "\n",
        "**Trade-offs of Subsampling**\n",
        "1. Loss of Information:\n",
        "\n",
        "- Subsampling reduces the amount of data available for training, which can lead to a loss of important patterns or relationships in the data.\n",
        "\n",
        "2. Reduced Model Performance:\n",
        "\n",
        "- Models trained on smaller datasets may have lower accuracy or generalization performance because they have less data to learn from.\n",
        "\n",
        "3. Bias in Subsampling:\n",
        "\n",
        "- If the subsampling method introduces bias, the model may perform poorly on unseen data.\n",
        "\n",
        "4. Difficulty with Rare Classes or Events:\n",
        "\n",
        "- If the dataset contains rare classes or events, subsampling may further reduce their representation."
      ],
      "metadata": {
        "id": "Hp-oAvjMf8hT"
      }
    },
    {
      "cell_type": "markdown",
      "metadata": {
        "id": "k-Ov-7pPR2nm"
      },
      "source": [
        "## 2.2 Feature Engineering\n",
        "\n",
        "What are the features versus the output in this assignment? Why is it important to distinguish between features (inputs) and outputs (labels) in a machine learning model?\n",
        "\n",
        "Select all train images labeled \"3\". Create a single, pixel-wise average image of all of these images. Plot the 2D mean and standard deviation images for category 3 in both the training and testing sets. Comment on the differences between the mean and standard deviation images between the training and testing datasets. Plot the 2D mean and standard deviation images for category \"3\" in the training and testing sets for the binarized images.\n",
        "\n",
        "Now repeat this for a new label (e.g., \"7\"). Comment on the differences between the mean and standard deviation images between the training and testing datasets for the binarized images.\n",
        "\n",
        "Binarize both of the images from the previous question by setting pixel values equal to 1 if they are greater than the mean value for that pixel and equal to 0 if they are less than the mean value for that pixel.\n",
        "\n",
        "In plain English, what are we actually **doing** when we binarize an image? How does the new pixel value relate to the pixel value of the original image and the mean value for that pixel across all images with that label?\n",
        "\n",
        "What is the index of the most **dissimilar** image in category \"3\" in the training set for the regular images? What about the most **similar** image? Does this change for the binarized images? If so, why? Make sure to plot all four images with approproate labels.\n",
        "\n",
        "What do you think the effect of binarizing these images is from a machine learning perspective? How does binarization of images (converting pixel values to 0 or 1 based on a threshold) affect the representation of features, and what might be the benefits and limitations of this approach?\n",
        "\n",
        "How does what you've just done relate to the idea of standardizing data? Why might it be important to standardize our data before using it to train a model?\n",
        "\n",
        "Describe how calculating a pixel-wise mean or standard deviation for a set of images can help you understand variations within a category. What does a high standard deviation indicate in this context?"
      ]
    },
    {
      "cell_type": "markdown",
      "metadata": {
        "id": "0h5iMq3vR2nm"
      },
      "source": [
        "# 3. Model Training, Validation, and Intepretation\n",
        "\n",
        "## 3.1 Support Vector Machine\n",
        "\n",
        "From the training dataset, select only images from categories \"3\" and \"9\".Subdivide the data into Set1 and Set2, with 60% of the data in Set1 and 40% in Set2. Replace category labels with 0 for 3 and 1 for 9.\n",
        "Use Set1 to train a linear support vector machine classifier with default parameters and predict the class labels for Set2. What is the prediction accuracy using the model trained on the training set? What is the prediction accuracy using the model trained on the testing set?"
      ]
    },
    {
      "cell_type": "markdown",
      "metadata": {
        "id": "jdNntsTgR2nn"
      },
      "source": [
        "## 3.2 Modeling with Engineered Data\n",
        "\n",
        "We describe each image by using a reduced set of features (compared to n = 784 initial features for each pixel value) as follows:\n",
        "\n",
        "- Binarize the image by setting the pixel values to 1 if they are greater than 128 and 0 otherwise.\n",
        "- For each image row i, find n_i, the sum of 1's in the row (28 features).\n",
        "- For each image column j, find n_j, the sum of 1's in the column (28 features).\n",
        "- Concatenate these features to form a feature vector of 56 features.\n",
        "\n",
        "What is the prediction accuracy using an SVM model trained on the training set? What is the prediction accuracy using an SVM model trained on the testing set? How about the prediction accuracy of a KNN model trained on the training set? And on the testing set? What does this tell you about the potential impacts of feature engineering?"
      ]
    },
    {
      "cell_type": "markdown",
      "metadata": {
        "id": "ZqpJVtujR2nn"
      },
      "source": [
        "## 3.3 K-Nearest Neighbors\n",
        "\n",
        "In the training and testing datasets, select images in the categories 1, 3, 5, 7, and 9. Train a k-NN classifier using 4 to 40 nearest neighbors, with a step size of 4.\n",
        "\n",
        "For k = 4, what is the label that was predicted with lowest accuracy?\n",
        "\n",
        "For k = 20, what is the label that was predicted with lowest accuracy?\n",
        "\n",
        "What is the label pair that was confused most often (i.e., class A is labeled as B, and vice versa)?\n",
        "\n",
        "Visualize 5 mislabeled samples with their actual and predicted labels.\n",
        "\n",
        "Based on the patterns in the pixel values for each category, which labels (numbers) do you think the model might struggle to identify or distinguish from one another? Explain why certain labels might be more challenging to separate, considering the similarity in pixel patterns or shapes."
      ]
    },
    {
      "cell_type": "markdown",
      "metadata": {
        "id": "fCzYPUAYR2no"
      },
      "source": [
        "## 3.4 Comprehension Questions\n",
        "\n",
        "Why is it important to have separate training and testing datasets? What potential issues arise if you use the same data for both training and evaluation?\n",
        "\n",
        "If you achieve a high accuracy on the training set but a lower accuracy on the testing set, what might this indicate about your model’s performance and generalization?"
      ]
    },
    {
      "cell_type": "code",
      "source": [],
      "metadata": {
        "id": "iGBOiOk6rhwu"
      },
      "execution_count": null,
      "outputs": []
    }
  ],
  "metadata": {
    "language_info": {
      "name": "python"
    },
    "colab": {
      "provenance": [],
      "include_colab_link": true
    },
    "kernelspec": {
      "name": "python3",
      "display_name": "Python 3"
    }
  },
  "nbformat": 4,
  "nbformat_minor": 0
}