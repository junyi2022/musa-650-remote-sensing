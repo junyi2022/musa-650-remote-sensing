{
  "nbformat": 4,
  "nbformat_minor": 0,
  "metadata": {
    "colab": {
      "provenance": []
    },
    "kernelspec": {
      "name": "python3",
      "display_name": "Python 3"
    },
    "language_info": {
      "name": "python"
    }
  },
  "cells": [
    {
      "cell_type": "markdown",
      "source": [
        "## Satellite Image Classification Using Convolutional Networks\n",
        "\n",
        "Build a Convolutional Neural Network (CNN) to classify satellite images into three categories: \"desert\", \"green_area\" and \"water\".\n",
        "\n",
        "### Data Preparation:\n",
        "\n",
        "- You have three directories: train_data, val_data and test_data. Inside each, there are subdirectories for different target classes.\n",
        "\n",
        "Link to Drive folder:\n",
        "\n",
        "https://drive.google.com/drive/folders/1SRbF5D9Ko9jE8NM7EJ3QkvdmVTYYOS-l\n",
        "\n",
        "- Write the code to create ImageDataGenerator instances for training and testing (including appropriate data augmentation for the training set).\n",
        "\n",
        "### CNN Model Construction:\n",
        "\n",
        "- Design a Sequential CNN model using Keras. Include at least three convolutional layers (Conv2D) with relu activation, followed by MaxPooling2D layers.\n",
        "\n",
        "- Add a Flatten layer, one or more Dense layers with relu activation, and a Dropout layer for regularization.\n",
        "\n",
        "- What activation function should the final Dense layer use? Why?\n",
        "\n",
        "- How many neurons should the final Dense layer have? Why?\n",
        "\n",
        "### Model Compilation:\n",
        "\n",
        "- Compile the model using the Adam optimizer with a learning rate of 0.001.\n",
        "Choose the appropriate loss function for classification. Explain your choice.\n",
        "Include accuracy as a metric.\n",
        "\n",
        "### Model Training:\n",
        "\n",
        "- Train the model using the fit method with the train_generator and validation_generator.\n",
        "\n",
        "- Set the steps_per_epoch, epochs, and validation_steps appropriately.\n",
        "\n",
        "- What do the steps_per_epoch and validation_steps parameters represent?\n",
        "\n",
        "### Model Evaluation:\n",
        "\n",
        "- Evaluate the trained model using the evaluate method with the validation_generator.\n",
        "\n",
        "- Print the test loss and test accuracy.\n",
        "\n",
        "### Model Saving and Loading (Optional):\n",
        "\n",
        "- Write the code to save the trained model to a file named satellite_classifier.h5.\n",
        "\n",
        "- Write the code to load the model from the saved file.\n",
        "\n",
        "Experiment with different CNN architectures, hyperparameters (learning rate, batch size, epochs), and data augmentation techniques to improve the model's performance.\n",
        "\n",
        "Implement code to make predictions on new, unseen satellite images using the trained model."
      ],
      "metadata": {
        "id": "sq8ioHKuS2k0"
      }
    },
    {
      "cell_type": "code",
      "source": [
        "import tensorflow as tf\n",
        "from tensorflow.keras.preprocessing.image import ImageDataGenerator\n",
        "from tensorflow.keras.models import Sequential\n",
        "from tensorflow.keras.layers import Conv2D, MaxPooling2D, Flatten, Dense, Dropout\n",
        "from tensorflow.keras.optimizers import Adam\n",
        "import os"
      ],
      "metadata": {
        "id": "XFY4ZyzTmsp2"
      },
      "execution_count": null,
      "outputs": []
    }
  ]
}